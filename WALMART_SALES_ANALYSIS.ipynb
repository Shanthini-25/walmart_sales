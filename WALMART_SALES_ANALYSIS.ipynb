{
 "cells": [
  {
   "cell_type": "code",
   "execution_count": 1,
   "id": "750e33aa",
   "metadata": {},
   "outputs": [],
   "source": [
    "#import necessary libraries\n",
    "\n",
    "import numpy as np\n",
    "import pandas as pd\n",
    "import matplotlib.pyplot as plt\n",
    "import seaborn as sns"
   ]
  },
  {
   "cell_type": "code",
   "execution_count": 2,
   "id": "d2ebc6f2",
   "metadata": {},
   "outputs": [
    {
     "data": {
      "text/html": [
       "<div>\n",
       "<style scoped>\n",
       "    .dataframe tbody tr th:only-of-type {\n",
       "        vertical-align: middle;\n",
       "    }\n",
       "\n",
       "    .dataframe tbody tr th {\n",
       "        vertical-align: top;\n",
       "    }\n",
       "\n",
       "    .dataframe thead th {\n",
       "        text-align: right;\n",
       "    }\n",
       "</style>\n",
       "<table border=\"1\" class=\"dataframe\">\n",
       "  <thead>\n",
       "    <tr style=\"text-align: right;\">\n",
       "      <th></th>\n",
       "      <th>Store</th>\n",
       "      <th>Date</th>\n",
       "      <th>Weekly_Sales</th>\n",
       "      <th>Holiday_Flag</th>\n",
       "      <th>Temperature</th>\n",
       "      <th>Fuel_Price</th>\n",
       "      <th>CPI</th>\n",
       "      <th>Unemployment</th>\n",
       "    </tr>\n",
       "  </thead>\n",
       "  <tbody>\n",
       "    <tr>\n",
       "      <th>0</th>\n",
       "      <td>1</td>\n",
       "      <td>05-02-2010</td>\n",
       "      <td>1643690.90</td>\n",
       "      <td>0</td>\n",
       "      <td>42.31</td>\n",
       "      <td>2.572</td>\n",
       "      <td>211.096358</td>\n",
       "      <td>8.106</td>\n",
       "    </tr>\n",
       "    <tr>\n",
       "      <th>1</th>\n",
       "      <td>1</td>\n",
       "      <td>12-02-2010</td>\n",
       "      <td>1641957.44</td>\n",
       "      <td>1</td>\n",
       "      <td>38.51</td>\n",
       "      <td>2.548</td>\n",
       "      <td>211.242170</td>\n",
       "      <td>8.106</td>\n",
       "    </tr>\n",
       "    <tr>\n",
       "      <th>2</th>\n",
       "      <td>1</td>\n",
       "      <td>19-02-2010</td>\n",
       "      <td>1611968.17</td>\n",
       "      <td>0</td>\n",
       "      <td>39.93</td>\n",
       "      <td>2.514</td>\n",
       "      <td>211.289143</td>\n",
       "      <td>8.106</td>\n",
       "    </tr>\n",
       "    <tr>\n",
       "      <th>3</th>\n",
       "      <td>1</td>\n",
       "      <td>26-02-2010</td>\n",
       "      <td>1409727.59</td>\n",
       "      <td>0</td>\n",
       "      <td>46.63</td>\n",
       "      <td>2.561</td>\n",
       "      <td>211.319643</td>\n",
       "      <td>8.106</td>\n",
       "    </tr>\n",
       "    <tr>\n",
       "      <th>4</th>\n",
       "      <td>1</td>\n",
       "      <td>05-03-2010</td>\n",
       "      <td>1554806.68</td>\n",
       "      <td>0</td>\n",
       "      <td>46.50</td>\n",
       "      <td>2.625</td>\n",
       "      <td>211.350143</td>\n",
       "      <td>8.106</td>\n",
       "    </tr>\n",
       "  </tbody>\n",
       "</table>\n",
       "</div>"
      ],
      "text/plain": [
       "   Store        Date  Weekly_Sales  Holiday_Flag  Temperature  Fuel_Price  \\\n",
       "0      1  05-02-2010    1643690.90             0        42.31       2.572   \n",
       "1      1  12-02-2010    1641957.44             1        38.51       2.548   \n",
       "2      1  19-02-2010    1611968.17             0        39.93       2.514   \n",
       "3      1  26-02-2010    1409727.59             0        46.63       2.561   \n",
       "4      1  05-03-2010    1554806.68             0        46.50       2.625   \n",
       "\n",
       "          CPI  Unemployment  \n",
       "0  211.096358         8.106  \n",
       "1  211.242170         8.106  \n",
       "2  211.289143         8.106  \n",
       "3  211.319643         8.106  \n",
       "4  211.350143         8.106  "
      ]
     },
     "execution_count": 2,
     "metadata": {},
     "output_type": "execute_result"
    }
   ],
   "source": [
    "df = pd.read_csv(\"Walmart.csv\")\n",
    "df.head()"
   ]
  },
  {
   "cell_type": "code",
   "execution_count": 3,
   "id": "9d6b0e6e",
   "metadata": {},
   "outputs": [
    {
     "name": "stdout",
     "output_type": "stream",
     "text": [
      "<class 'pandas.core.frame.DataFrame'>\n",
      "RangeIndex: 6435 entries, 0 to 6434\n",
      "Data columns (total 8 columns):\n",
      " #   Column        Non-Null Count  Dtype  \n",
      "---  ------        --------------  -----  \n",
      " 0   Store         6435 non-null   int64  \n",
      " 1   Date          6435 non-null   object \n",
      " 2   Weekly_Sales  6435 non-null   float64\n",
      " 3   Holiday_Flag  6435 non-null   int64  \n",
      " 4   Temperature   6435 non-null   float64\n",
      " 5   Fuel_Price    6435 non-null   float64\n",
      " 6   CPI           6435 non-null   float64\n",
      " 7   Unemployment  6435 non-null   float64\n",
      "dtypes: float64(5), int64(2), object(1)\n",
      "memory usage: 402.3+ KB\n"
     ]
    }
   ],
   "source": [
    "#information about the dataset \n",
    "\n",
    "df.info()"
   ]
  },
  {
   "cell_type": "markdown",
   "id": "88897d3c",
   "metadata": {},
   "source": [
    "The df.info() is a function to get the information about the dataset. \n",
    "--> The no. of rows and columns in the dataset.\n",
    "--> The names of the columns and the datatype of each column.\n",
    "--> Amt of memory used by the dataframe.\n",
    "--> Whether any missing values is there or not."
   ]
  },
  {
   "cell_type": "code",
   "execution_count": 4,
   "id": "04464b06",
   "metadata": {},
   "outputs": [
    {
     "data": {
      "text/html": [
       "<div>\n",
       "<style scoped>\n",
       "    .dataframe tbody tr th:only-of-type {\n",
       "        vertical-align: middle;\n",
       "    }\n",
       "\n",
       "    .dataframe tbody tr th {\n",
       "        vertical-align: top;\n",
       "    }\n",
       "\n",
       "    .dataframe thead th {\n",
       "        text-align: right;\n",
       "    }\n",
       "</style>\n",
       "<table border=\"1\" class=\"dataframe\">\n",
       "  <thead>\n",
       "    <tr style=\"text-align: right;\">\n",
       "      <th></th>\n",
       "      <th>Store</th>\n",
       "      <th>Weekly_Sales</th>\n",
       "      <th>Holiday_Flag</th>\n",
       "      <th>Temperature</th>\n",
       "      <th>Fuel_Price</th>\n",
       "      <th>CPI</th>\n",
       "      <th>Unemployment</th>\n",
       "    </tr>\n",
       "  </thead>\n",
       "  <tbody>\n",
       "    <tr>\n",
       "      <th>count</th>\n",
       "      <td>6435.000000</td>\n",
       "      <td>6.435000e+03</td>\n",
       "      <td>6435.000000</td>\n",
       "      <td>6435.000000</td>\n",
       "      <td>6435.000000</td>\n",
       "      <td>6435.000000</td>\n",
       "      <td>6435.000000</td>\n",
       "    </tr>\n",
       "    <tr>\n",
       "      <th>mean</th>\n",
       "      <td>23.000000</td>\n",
       "      <td>1.046965e+06</td>\n",
       "      <td>0.069930</td>\n",
       "      <td>60.663782</td>\n",
       "      <td>3.358607</td>\n",
       "      <td>171.578394</td>\n",
       "      <td>7.999151</td>\n",
       "    </tr>\n",
       "    <tr>\n",
       "      <th>std</th>\n",
       "      <td>12.988182</td>\n",
       "      <td>5.643666e+05</td>\n",
       "      <td>0.255049</td>\n",
       "      <td>18.444933</td>\n",
       "      <td>0.459020</td>\n",
       "      <td>39.356712</td>\n",
       "      <td>1.875885</td>\n",
       "    </tr>\n",
       "    <tr>\n",
       "      <th>min</th>\n",
       "      <td>1.000000</td>\n",
       "      <td>2.099862e+05</td>\n",
       "      <td>0.000000</td>\n",
       "      <td>-2.060000</td>\n",
       "      <td>2.472000</td>\n",
       "      <td>126.064000</td>\n",
       "      <td>3.879000</td>\n",
       "    </tr>\n",
       "    <tr>\n",
       "      <th>25%</th>\n",
       "      <td>12.000000</td>\n",
       "      <td>5.533501e+05</td>\n",
       "      <td>0.000000</td>\n",
       "      <td>47.460000</td>\n",
       "      <td>2.933000</td>\n",
       "      <td>131.735000</td>\n",
       "      <td>6.891000</td>\n",
       "    </tr>\n",
       "    <tr>\n",
       "      <th>50%</th>\n",
       "      <td>23.000000</td>\n",
       "      <td>9.607460e+05</td>\n",
       "      <td>0.000000</td>\n",
       "      <td>62.670000</td>\n",
       "      <td>3.445000</td>\n",
       "      <td>182.616521</td>\n",
       "      <td>7.874000</td>\n",
       "    </tr>\n",
       "    <tr>\n",
       "      <th>75%</th>\n",
       "      <td>34.000000</td>\n",
       "      <td>1.420159e+06</td>\n",
       "      <td>0.000000</td>\n",
       "      <td>74.940000</td>\n",
       "      <td>3.735000</td>\n",
       "      <td>212.743293</td>\n",
       "      <td>8.622000</td>\n",
       "    </tr>\n",
       "    <tr>\n",
       "      <th>max</th>\n",
       "      <td>45.000000</td>\n",
       "      <td>3.818686e+06</td>\n",
       "      <td>1.000000</td>\n",
       "      <td>100.140000</td>\n",
       "      <td>4.468000</td>\n",
       "      <td>227.232807</td>\n",
       "      <td>14.313000</td>\n",
       "    </tr>\n",
       "  </tbody>\n",
       "</table>\n",
       "</div>"
      ],
      "text/plain": [
       "             Store  Weekly_Sales  Holiday_Flag  Temperature   Fuel_Price  \\\n",
       "count  6435.000000  6.435000e+03   6435.000000  6435.000000  6435.000000   \n",
       "mean     23.000000  1.046965e+06      0.069930    60.663782     3.358607   \n",
       "std      12.988182  5.643666e+05      0.255049    18.444933     0.459020   \n",
       "min       1.000000  2.099862e+05      0.000000    -2.060000     2.472000   \n",
       "25%      12.000000  5.533501e+05      0.000000    47.460000     2.933000   \n",
       "50%      23.000000  9.607460e+05      0.000000    62.670000     3.445000   \n",
       "75%      34.000000  1.420159e+06      0.000000    74.940000     3.735000   \n",
       "max      45.000000  3.818686e+06      1.000000   100.140000     4.468000   \n",
       "\n",
       "               CPI  Unemployment  \n",
       "count  6435.000000   6435.000000  \n",
       "mean    171.578394      7.999151  \n",
       "std      39.356712      1.875885  \n",
       "min     126.064000      3.879000  \n",
       "25%     131.735000      6.891000  \n",
       "50%     182.616521      7.874000  \n",
       "75%     212.743293      8.622000  \n",
       "max     227.232807     14.313000  "
      ]
     },
     "execution_count": 4,
     "metadata": {},
     "output_type": "execute_result"
    }
   ],
   "source": [
    "#description of the dataset \n",
    "\n",
    "df.describe()"
   ]
  },
  {
   "cell_type": "markdown",
   "id": "d9234142",
   "metadata": {},
   "source": [
    "The df.describe() function is used to get \n",
    "1) Count of the non null values in each column in a dataset. \n",
    "2) Mean of the columns.\n",
    "3) Standard deviation of the columns.\n",
    "4) Minimum and maximum value of the column.\n",
    "5) Quartiles like 25%, 50%, 75% values of the columns.\n",
    "From this we will get to know the central tendancies, distribution and spread of the numerical values."
   ]
  },
  {
   "cell_type": "code",
   "execution_count": 5,
   "id": "6ed5e524",
   "metadata": {
    "scrolled": false
   },
   "outputs": [
    {
     "data": {
      "text/plain": [
       "Index(['Store', 'Date', 'Weekly_Sales', 'Holiday_Flag', 'Temperature',\n",
       "       'Fuel_Price', 'CPI', 'Unemployment'],\n",
       "      dtype='object')"
      ]
     },
     "execution_count": 5,
     "metadata": {},
     "output_type": "execute_result"
    }
   ],
   "source": [
    "#columns present in the dataset.\n",
    "\n",
    "df.columns"
   ]
  },
  {
   "cell_type": "markdown",
   "id": "40735754",
   "metadata": {},
   "source": [
    "The df.columns will retrieve the columns present in the dataset.It helps us get the names of the columns in a DataFrame, allowing us to access, manipulate, or iterate over them as needed."
   ]
  },
  {
   "cell_type": "markdown",
   "id": "49aa35a5",
   "metadata": {},
   "source": [
    "1) Store - The store number\n",
    "2) Date - The week of sales\n",
    "3) Weekly_sales - Weekly sales for a store\n",
    "4) Holiday_flag - 1 for week being holiday and 0 being non-holiday week\n",
    "5) Temperature - Temperature on sale day.\n",
    "6) Fuel price - fuel price in the region.\n",
    "7) CPI - consumer price index\n",
    "8) Unemployment - prevailing(current) unemployment rate."
   ]
  },
  {
   "cell_type": "code",
   "execution_count": 6,
   "id": "22437afe",
   "metadata": {},
   "outputs": [
    {
     "data": {
      "text/plain": [
       "Store             int64\n",
       "Date             object\n",
       "Weekly_Sales    float64\n",
       "Holiday_Flag      int64\n",
       "Temperature     float64\n",
       "Fuel_Price      float64\n",
       "CPI             float64\n",
       "Unemployment    float64\n",
       "dtype: object"
      ]
     },
     "execution_count": 6,
     "metadata": {},
     "output_type": "execute_result"
    }
   ],
   "source": [
    "#data types of the columns in the dataset\n",
    "\n",
    "df.dtypes"
   ]
  },
  {
   "cell_type": "markdown",
   "id": "808c9714",
   "metadata": {},
   "source": [
    "df.dtypes is helpful for understanding the nature of the data in each column. It returns a series as the index contains the column names and the corresponding data type."
   ]
  },
  {
   "cell_type": "code",
   "execution_count": 7,
   "id": "45864404",
   "metadata": {},
   "outputs": [
    {
     "data": {
      "text/plain": [
       "(6435, 8)"
      ]
     },
     "execution_count": 7,
     "metadata": {},
     "output_type": "execute_result"
    }
   ],
   "source": [
    "#shape of the dataset\n",
    "\n",
    "df.shape"
   ]
  },
  {
   "cell_type": "markdown",
   "id": "884931cd",
   "metadata": {},
   "source": [
    "df.shape returns the tuple which contains the dimensions of the dataframe. It is used to retrieve the number of rows and columns in a DataFrame, providing important information about its size and structure."
   ]
  },
  {
   "cell_type": "code",
   "execution_count": 8,
   "id": "0e92814a",
   "metadata": {},
   "outputs": [
    {
     "data": {
      "text/plain": [
       "0       False\n",
       "1       False\n",
       "2       False\n",
       "3       False\n",
       "4       False\n",
       "        ...  \n",
       "6430    False\n",
       "6431    False\n",
       "6432    False\n",
       "6433    False\n",
       "6434    False\n",
       "Length: 6435, dtype: bool"
      ]
     },
     "execution_count": 8,
     "metadata": {},
     "output_type": "execute_result"
    }
   ],
   "source": [
    "#check whether any duplicate values is there or not\n",
    "\n",
    "df.duplicated()"
   ]
  },
  {
   "cell_type": "code",
   "execution_count": 9,
   "id": "e5637074",
   "metadata": {},
   "outputs": [
    {
     "data": {
      "text/plain": [
       "0"
      ]
     },
     "execution_count": 9,
     "metadata": {},
     "output_type": "execute_result"
    }
   ],
   "source": [
    "df.duplicated().sum()"
   ]
  },
  {
   "cell_type": "markdown",
   "id": "aee60439",
   "metadata": {},
   "source": [
    "df.duplicated() is a method used to detect duplicate rows in a DataFrame, providing a boolean series that indicates which rows are duplicates and which are not."
   ]
  },
  {
   "cell_type": "code",
   "execution_count": 10,
   "id": "eb7ad187",
   "metadata": {},
   "outputs": [
    {
     "data": {
      "text/plain": [
       "Store           0\n",
       "Date            0\n",
       "Weekly_Sales    0\n",
       "Holiday_Flag    0\n",
       "Temperature     0\n",
       "Fuel_Price      0\n",
       "CPI             0\n",
       "Unemployment    0\n",
       "dtype: int64"
      ]
     },
     "execution_count": 10,
     "metadata": {},
     "output_type": "execute_result"
    }
   ],
   "source": [
    "#check for null values\n",
    "\n",
    "df.isna().sum()"
   ]
  },
  {
   "cell_type": "code",
   "execution_count": 11,
   "id": "ec926d4e",
   "metadata": {},
   "outputs": [
    {
     "data": {
      "text/plain": [
       "Store           0\n",
       "Date            0\n",
       "Weekly_Sales    0\n",
       "Holiday_Flag    0\n",
       "Temperature     0\n",
       "Fuel_Price      0\n",
       "CPI             0\n",
       "Unemployment    0\n",
       "dtype: int64"
      ]
     },
     "execution_count": 11,
     "metadata": {},
     "output_type": "execute_result"
    }
   ],
   "source": [
    "df.isnull().sum()"
   ]
  },
  {
   "cell_type": "markdown",
   "id": "f7771634",
   "metadata": {},
   "source": [
    "df.isna().sum() - obtain the count of missing values in each column. It helps you understand the completeness of your data and identify columns that have a significant number of missing values."
   ]
  },
  {
   "cell_type": "code",
   "execution_count": 12,
   "id": "100bb2e0",
   "metadata": {},
   "outputs": [
    {
     "data": {
      "text/html": [
       "<div>\n",
       "<style scoped>\n",
       "    .dataframe tbody tr th:only-of-type {\n",
       "        vertical-align: middle;\n",
       "    }\n",
       "\n",
       "    .dataframe tbody tr th {\n",
       "        vertical-align: top;\n",
       "    }\n",
       "\n",
       "    .dataframe thead th {\n",
       "        text-align: right;\n",
       "    }\n",
       "</style>\n",
       "<table border=\"1\" class=\"dataframe\">\n",
       "  <thead>\n",
       "    <tr style=\"text-align: right;\">\n",
       "      <th></th>\n",
       "      <th>Store</th>\n",
       "      <th>Date</th>\n",
       "      <th>Weekly_Sales</th>\n",
       "      <th>Holiday_Flag</th>\n",
       "      <th>Temperature</th>\n",
       "      <th>Fuel_Price</th>\n",
       "      <th>CPI</th>\n",
       "      <th>Unemployment</th>\n",
       "    </tr>\n",
       "  </thead>\n",
       "  <tbody>\n",
       "  </tbody>\n",
       "</table>\n",
       "</div>"
      ],
      "text/plain": [
       "Empty DataFrame\n",
       "Columns: [Store, Date, Weekly_Sales, Holiday_Flag, Temperature, Fuel_Price, CPI, Unemployment]\n",
       "Index: []"
      ]
     },
     "execution_count": 12,
     "metadata": {},
     "output_type": "execute_result"
    }
   ],
   "source": [
    "#checking outliers on weekly sales\n",
    "\n",
    "df.loc[df['Weekly_Sales']<=0]"
   ]
  },
  {
   "cell_type": "code",
   "execution_count": 13,
   "id": "5716b9f7",
   "metadata": {},
   "outputs": [
    {
     "name": "stdout",
     "output_type": "stream",
     "text": [
      "209986.25\n",
      "3818686.45\n",
      "960746.04\n",
      "1046964.8775617732\n"
     ]
    }
   ],
   "source": [
    "print(df['Weekly_Sales'].min())\n",
    "print(df['Weekly_Sales'].max())\n",
    "print(df['Weekly_Sales'].median())\n",
    "print(df['Weekly_Sales'].mean())"
   ]
  },
  {
   "cell_type": "code",
   "execution_count": 14,
   "id": "dd7a4bd8",
   "metadata": {},
   "outputs": [
    {
     "name": "stderr",
     "output_type": "stream",
     "text": [
      "C:\\Users\\Shanthini\\anaconda3\\lib\\site-packages\\pandas\\core\\tools\\datetimes.py:1047: UserWarning: Parsing '19-02-2010' in DD/MM/YYYY format. Provide format or specify infer_datetime_format=True for consistent parsing.\n",
      "  cache_array = _maybe_cache(arg, format, cache, convert_listlike)\n",
      "C:\\Users\\Shanthini\\anaconda3\\lib\\site-packages\\pandas\\core\\tools\\datetimes.py:1047: UserWarning: Parsing '26-02-2010' in DD/MM/YYYY format. Provide format or specify infer_datetime_format=True for consistent parsing.\n",
      "  cache_array = _maybe_cache(arg, format, cache, convert_listlike)\n",
      "C:\\Users\\Shanthini\\anaconda3\\lib\\site-packages\\pandas\\core\\tools\\datetimes.py:1047: UserWarning: Parsing '19-03-2010' in DD/MM/YYYY format. Provide format or specify infer_datetime_format=True for consistent parsing.\n",
      "  cache_array = _maybe_cache(arg, format, cache, convert_listlike)\n",
      "C:\\Users\\Shanthini\\anaconda3\\lib\\site-packages\\pandas\\core\\tools\\datetimes.py:1047: UserWarning: Parsing '26-03-2010' in DD/MM/YYYY format. Provide format or specify infer_datetime_format=True for consistent parsing.\n",
      "  cache_array = _maybe_cache(arg, format, cache, convert_listlike)\n",
      "C:\\Users\\Shanthini\\anaconda3\\lib\\site-packages\\pandas\\core\\tools\\datetimes.py:1047: UserWarning: Parsing '16-04-2010' in DD/MM/YYYY format. Provide format or specify infer_datetime_format=True for consistent parsing.\n",
      "  cache_array = _maybe_cache(arg, format, cache, convert_listlike)\n",
      "C:\\Users\\Shanthini\\anaconda3\\lib\\site-packages\\pandas\\core\\tools\\datetimes.py:1047: UserWarning: Parsing '23-04-2010' in DD/MM/YYYY format. Provide format or specify infer_datetime_format=True for consistent parsing.\n",
      "  cache_array = _maybe_cache(arg, format, cache, convert_listlike)\n",
      "C:\\Users\\Shanthini\\anaconda3\\lib\\site-packages\\pandas\\core\\tools\\datetimes.py:1047: UserWarning: Parsing '30-04-2010' in DD/MM/YYYY format. Provide format or specify infer_datetime_format=True for consistent parsing.\n",
      "  cache_array = _maybe_cache(arg, format, cache, convert_listlike)\n",
      "C:\\Users\\Shanthini\\anaconda3\\lib\\site-packages\\pandas\\core\\tools\\datetimes.py:1047: UserWarning: Parsing '14-05-2010' in DD/MM/YYYY format. Provide format or specify infer_datetime_format=True for consistent parsing.\n",
      "  cache_array = _maybe_cache(arg, format, cache, convert_listlike)\n",
      "C:\\Users\\Shanthini\\anaconda3\\lib\\site-packages\\pandas\\core\\tools\\datetimes.py:1047: UserWarning: Parsing '21-05-2010' in DD/MM/YYYY format. Provide format or specify infer_datetime_format=True for consistent parsing.\n",
      "  cache_array = _maybe_cache(arg, format, cache, convert_listlike)\n",
      "C:\\Users\\Shanthini\\anaconda3\\lib\\site-packages\\pandas\\core\\tools\\datetimes.py:1047: UserWarning: Parsing '28-05-2010' in DD/MM/YYYY format. Provide format or specify infer_datetime_format=True for consistent parsing.\n",
      "  cache_array = _maybe_cache(arg, format, cache, convert_listlike)\n",
      "C:\\Users\\Shanthini\\anaconda3\\lib\\site-packages\\pandas\\core\\tools\\datetimes.py:1047: UserWarning: Parsing '18-06-2010' in DD/MM/YYYY format. Provide format or specify infer_datetime_format=True for consistent parsing.\n",
      "  cache_array = _maybe_cache(arg, format, cache, convert_listlike)\n",
      "C:\\Users\\Shanthini\\anaconda3\\lib\\site-packages\\pandas\\core\\tools\\datetimes.py:1047: UserWarning: Parsing '25-06-2010' in DD/MM/YYYY format. Provide format or specify infer_datetime_format=True for consistent parsing.\n",
      "  cache_array = _maybe_cache(arg, format, cache, convert_listlike)\n",
      "C:\\Users\\Shanthini\\anaconda3\\lib\\site-packages\\pandas\\core\\tools\\datetimes.py:1047: UserWarning: Parsing '16-07-2010' in DD/MM/YYYY format. Provide format or specify infer_datetime_format=True for consistent parsing.\n",
      "  cache_array = _maybe_cache(arg, format, cache, convert_listlike)\n",
      "C:\\Users\\Shanthini\\anaconda3\\lib\\site-packages\\pandas\\core\\tools\\datetimes.py:1047: UserWarning: Parsing '23-07-2010' in DD/MM/YYYY format. Provide format or specify infer_datetime_format=True for consistent parsing.\n",
      "  cache_array = _maybe_cache(arg, format, cache, convert_listlike)\n",
      "C:\\Users\\Shanthini\\anaconda3\\lib\\site-packages\\pandas\\core\\tools\\datetimes.py:1047: UserWarning: Parsing '30-07-2010' in DD/MM/YYYY format. Provide format or specify infer_datetime_format=True for consistent parsing.\n",
      "  cache_array = _maybe_cache(arg, format, cache, convert_listlike)\n",
      "C:\\Users\\Shanthini\\anaconda3\\lib\\site-packages\\pandas\\core\\tools\\datetimes.py:1047: UserWarning: Parsing '13-08-2010' in DD/MM/YYYY format. Provide format or specify infer_datetime_format=True for consistent parsing.\n",
      "  cache_array = _maybe_cache(arg, format, cache, convert_listlike)\n",
      "C:\\Users\\Shanthini\\anaconda3\\lib\\site-packages\\pandas\\core\\tools\\datetimes.py:1047: UserWarning: Parsing '20-08-2010' in DD/MM/YYYY format. Provide format or specify infer_datetime_format=True for consistent parsing.\n",
      "  cache_array = _maybe_cache(arg, format, cache, convert_listlike)\n",
      "C:\\Users\\Shanthini\\anaconda3\\lib\\site-packages\\pandas\\core\\tools\\datetimes.py:1047: UserWarning: Parsing '27-08-2010' in DD/MM/YYYY format. Provide format or specify infer_datetime_format=True for consistent parsing.\n",
      "  cache_array = _maybe_cache(arg, format, cache, convert_listlike)\n",
      "C:\\Users\\Shanthini\\anaconda3\\lib\\site-packages\\pandas\\core\\tools\\datetimes.py:1047: UserWarning: Parsing '17-09-2010' in DD/MM/YYYY format. Provide format or specify infer_datetime_format=True for consistent parsing.\n",
      "  cache_array = _maybe_cache(arg, format, cache, convert_listlike)\n",
      "C:\\Users\\Shanthini\\anaconda3\\lib\\site-packages\\pandas\\core\\tools\\datetimes.py:1047: UserWarning: Parsing '24-09-2010' in DD/MM/YYYY format. Provide format or specify infer_datetime_format=True for consistent parsing.\n",
      "  cache_array = _maybe_cache(arg, format, cache, convert_listlike)\n",
      "C:\\Users\\Shanthini\\anaconda3\\lib\\site-packages\\pandas\\core\\tools\\datetimes.py:1047: UserWarning: Parsing '15-10-2010' in DD/MM/YYYY format. Provide format or specify infer_datetime_format=True for consistent parsing.\n",
      "  cache_array = _maybe_cache(arg, format, cache, convert_listlike)\n",
      "C:\\Users\\Shanthini\\anaconda3\\lib\\site-packages\\pandas\\core\\tools\\datetimes.py:1047: UserWarning: Parsing '22-10-2010' in DD/MM/YYYY format. Provide format or specify infer_datetime_format=True for consistent parsing.\n",
      "  cache_array = _maybe_cache(arg, format, cache, convert_listlike)\n",
      "C:\\Users\\Shanthini\\anaconda3\\lib\\site-packages\\pandas\\core\\tools\\datetimes.py:1047: UserWarning: Parsing '29-10-2010' in DD/MM/YYYY format. Provide format or specify infer_datetime_format=True for consistent parsing.\n",
      "  cache_array = _maybe_cache(arg, format, cache, convert_listlike)\n",
      "C:\\Users\\Shanthini\\anaconda3\\lib\\site-packages\\pandas\\core\\tools\\datetimes.py:1047: UserWarning: Parsing '19-11-2010' in DD/MM/YYYY format. Provide format or specify infer_datetime_format=True for consistent parsing.\n",
      "  cache_array = _maybe_cache(arg, format, cache, convert_listlike)\n",
      "C:\\Users\\Shanthini\\anaconda3\\lib\\site-packages\\pandas\\core\\tools\\datetimes.py:1047: UserWarning: Parsing '26-11-2010' in DD/MM/YYYY format. Provide format or specify infer_datetime_format=True for consistent parsing.\n",
      "  cache_array = _maybe_cache(arg, format, cache, convert_listlike)\n",
      "C:\\Users\\Shanthini\\anaconda3\\lib\\site-packages\\pandas\\core\\tools\\datetimes.py:1047: UserWarning: Parsing '17-12-2010' in DD/MM/YYYY format. Provide format or specify infer_datetime_format=True for consistent parsing.\n",
      "  cache_array = _maybe_cache(arg, format, cache, convert_listlike)\n",
      "C:\\Users\\Shanthini\\anaconda3\\lib\\site-packages\\pandas\\core\\tools\\datetimes.py:1047: UserWarning: Parsing '24-12-2010' in DD/MM/YYYY format. Provide format or specify infer_datetime_format=True for consistent parsing.\n",
      "  cache_array = _maybe_cache(arg, format, cache, convert_listlike)\n",
      "C:\\Users\\Shanthini\\anaconda3\\lib\\site-packages\\pandas\\core\\tools\\datetimes.py:1047: UserWarning: Parsing '31-12-2010' in DD/MM/YYYY format. Provide format or specify infer_datetime_format=True for consistent parsing.\n",
      "  cache_array = _maybe_cache(arg, format, cache, convert_listlike)\n",
      "C:\\Users\\Shanthini\\anaconda3\\lib\\site-packages\\pandas\\core\\tools\\datetimes.py:1047: UserWarning: Parsing '14-01-2011' in DD/MM/YYYY format. Provide format or specify infer_datetime_format=True for consistent parsing.\n",
      "  cache_array = _maybe_cache(arg, format, cache, convert_listlike)\n",
      "C:\\Users\\Shanthini\\anaconda3\\lib\\site-packages\\pandas\\core\\tools\\datetimes.py:1047: UserWarning: Parsing '21-01-2011' in DD/MM/YYYY format. Provide format or specify infer_datetime_format=True for consistent parsing.\n",
      "  cache_array = _maybe_cache(arg, format, cache, convert_listlike)\n",
      "C:\\Users\\Shanthini\\anaconda3\\lib\\site-packages\\pandas\\core\\tools\\datetimes.py:1047: UserWarning: Parsing '28-01-2011' in DD/MM/YYYY format. Provide format or specify infer_datetime_format=True for consistent parsing.\n",
      "  cache_array = _maybe_cache(arg, format, cache, convert_listlike)\n",
      "C:\\Users\\Shanthini\\anaconda3\\lib\\site-packages\\pandas\\core\\tools\\datetimes.py:1047: UserWarning: Parsing '18-02-2011' in DD/MM/YYYY format. Provide format or specify infer_datetime_format=True for consistent parsing.\n",
      "  cache_array = _maybe_cache(arg, format, cache, convert_listlike)\n",
      "C:\\Users\\Shanthini\\anaconda3\\lib\\site-packages\\pandas\\core\\tools\\datetimes.py:1047: UserWarning: Parsing '25-02-2011' in DD/MM/YYYY format. Provide format or specify infer_datetime_format=True for consistent parsing.\n",
      "  cache_array = _maybe_cache(arg, format, cache, convert_listlike)\n",
      "C:\\Users\\Shanthini\\anaconda3\\lib\\site-packages\\pandas\\core\\tools\\datetimes.py:1047: UserWarning: Parsing '18-03-2011' in DD/MM/YYYY format. Provide format or specify infer_datetime_format=True for consistent parsing.\n",
      "  cache_array = _maybe_cache(arg, format, cache, convert_listlike)\n",
      "C:\\Users\\Shanthini\\anaconda3\\lib\\site-packages\\pandas\\core\\tools\\datetimes.py:1047: UserWarning: Parsing '25-03-2011' in DD/MM/YYYY format. Provide format or specify infer_datetime_format=True for consistent parsing.\n",
      "  cache_array = _maybe_cache(arg, format, cache, convert_listlike)\n",
      "C:\\Users\\Shanthini\\anaconda3\\lib\\site-packages\\pandas\\core\\tools\\datetimes.py:1047: UserWarning: Parsing '15-04-2011' in DD/MM/YYYY format. Provide format or specify infer_datetime_format=True for consistent parsing.\n",
      "  cache_array = _maybe_cache(arg, format, cache, convert_listlike)\n",
      "C:\\Users\\Shanthini\\anaconda3\\lib\\site-packages\\pandas\\core\\tools\\datetimes.py:1047: UserWarning: Parsing '22-04-2011' in DD/MM/YYYY format. Provide format or specify infer_datetime_format=True for consistent parsing.\n",
      "  cache_array = _maybe_cache(arg, format, cache, convert_listlike)\n",
      "C:\\Users\\Shanthini\\anaconda3\\lib\\site-packages\\pandas\\core\\tools\\datetimes.py:1047: UserWarning: Parsing '29-04-2011' in DD/MM/YYYY format. Provide format or specify infer_datetime_format=True for consistent parsing.\n",
      "  cache_array = _maybe_cache(arg, format, cache, convert_listlike)\n",
      "C:\\Users\\Shanthini\\anaconda3\\lib\\site-packages\\pandas\\core\\tools\\datetimes.py:1047: UserWarning: Parsing '13-05-2011' in DD/MM/YYYY format. Provide format or specify infer_datetime_format=True for consistent parsing.\n",
      "  cache_array = _maybe_cache(arg, format, cache, convert_listlike)\n",
      "C:\\Users\\Shanthini\\anaconda3\\lib\\site-packages\\pandas\\core\\tools\\datetimes.py:1047: UserWarning: Parsing '20-05-2011' in DD/MM/YYYY format. Provide format or specify infer_datetime_format=True for consistent parsing.\n",
      "  cache_array = _maybe_cache(arg, format, cache, convert_listlike)\n",
      "C:\\Users\\Shanthini\\anaconda3\\lib\\site-packages\\pandas\\core\\tools\\datetimes.py:1047: UserWarning: Parsing '27-05-2011' in DD/MM/YYYY format. Provide format or specify infer_datetime_format=True for consistent parsing.\n",
      "  cache_array = _maybe_cache(arg, format, cache, convert_listlike)\n",
      "C:\\Users\\Shanthini\\anaconda3\\lib\\site-packages\\pandas\\core\\tools\\datetimes.py:1047: UserWarning: Parsing '17-06-2011' in DD/MM/YYYY format. Provide format or specify infer_datetime_format=True for consistent parsing.\n",
      "  cache_array = _maybe_cache(arg, format, cache, convert_listlike)\n",
      "C:\\Users\\Shanthini\\anaconda3\\lib\\site-packages\\pandas\\core\\tools\\datetimes.py:1047: UserWarning: Parsing '24-06-2011' in DD/MM/YYYY format. Provide format or specify infer_datetime_format=True for consistent parsing.\n",
      "  cache_array = _maybe_cache(arg, format, cache, convert_listlike)\n",
      "C:\\Users\\Shanthini\\anaconda3\\lib\\site-packages\\pandas\\core\\tools\\datetimes.py:1047: UserWarning: Parsing '15-07-2011' in DD/MM/YYYY format. Provide format or specify infer_datetime_format=True for consistent parsing.\n",
      "  cache_array = _maybe_cache(arg, format, cache, convert_listlike)\n",
      "C:\\Users\\Shanthini\\anaconda3\\lib\\site-packages\\pandas\\core\\tools\\datetimes.py:1047: UserWarning: Parsing '22-07-2011' in DD/MM/YYYY format. Provide format or specify infer_datetime_format=True for consistent parsing.\n",
      "  cache_array = _maybe_cache(arg, format, cache, convert_listlike)\n",
      "C:\\Users\\Shanthini\\anaconda3\\lib\\site-packages\\pandas\\core\\tools\\datetimes.py:1047: UserWarning: Parsing '29-07-2011' in DD/MM/YYYY format. Provide format or specify infer_datetime_format=True for consistent parsing.\n",
      "  cache_array = _maybe_cache(arg, format, cache, convert_listlike)\n",
      "C:\\Users\\Shanthini\\anaconda3\\lib\\site-packages\\pandas\\core\\tools\\datetimes.py:1047: UserWarning: Parsing '19-08-2011' in DD/MM/YYYY format. Provide format or specify infer_datetime_format=True for consistent parsing.\n",
      "  cache_array = _maybe_cache(arg, format, cache, convert_listlike)\n",
      "C:\\Users\\Shanthini\\anaconda3\\lib\\site-packages\\pandas\\core\\tools\\datetimes.py:1047: UserWarning: Parsing '26-08-2011' in DD/MM/YYYY format. Provide format or specify infer_datetime_format=True for consistent parsing.\n",
      "  cache_array = _maybe_cache(arg, format, cache, convert_listlike)\n",
      "C:\\Users\\Shanthini\\anaconda3\\lib\\site-packages\\pandas\\core\\tools\\datetimes.py:1047: UserWarning: Parsing '16-09-2011' in DD/MM/YYYY format. Provide format or specify infer_datetime_format=True for consistent parsing.\n",
      "  cache_array = _maybe_cache(arg, format, cache, convert_listlike)\n",
      "C:\\Users\\Shanthini\\anaconda3\\lib\\site-packages\\pandas\\core\\tools\\datetimes.py:1047: UserWarning: Parsing '23-09-2011' in DD/MM/YYYY format. Provide format or specify infer_datetime_format=True for consistent parsing.\n",
      "  cache_array = _maybe_cache(arg, format, cache, convert_listlike)\n",
      "C:\\Users\\Shanthini\\anaconda3\\lib\\site-packages\\pandas\\core\\tools\\datetimes.py:1047: UserWarning: Parsing '30-09-2011' in DD/MM/YYYY format. Provide format or specify infer_datetime_format=True for consistent parsing.\n",
      "  cache_array = _maybe_cache(arg, format, cache, convert_listlike)\n",
      "C:\\Users\\Shanthini\\anaconda3\\lib\\site-packages\\pandas\\core\\tools\\datetimes.py:1047: UserWarning: Parsing '14-10-2011' in DD/MM/YYYY format. Provide format or specify infer_datetime_format=True for consistent parsing.\n",
      "  cache_array = _maybe_cache(arg, format, cache, convert_listlike)\n",
      "C:\\Users\\Shanthini\\anaconda3\\lib\\site-packages\\pandas\\core\\tools\\datetimes.py:1047: UserWarning: Parsing '21-10-2011' in DD/MM/YYYY format. Provide format or specify infer_datetime_format=True for consistent parsing.\n",
      "  cache_array = _maybe_cache(arg, format, cache, convert_listlike)\n",
      "C:\\Users\\Shanthini\\anaconda3\\lib\\site-packages\\pandas\\core\\tools\\datetimes.py:1047: UserWarning: Parsing '28-10-2011' in DD/MM/YYYY format. Provide format or specify infer_datetime_format=True for consistent parsing.\n",
      "  cache_array = _maybe_cache(arg, format, cache, convert_listlike)\n",
      "C:\\Users\\Shanthini\\anaconda3\\lib\\site-packages\\pandas\\core\\tools\\datetimes.py:1047: UserWarning: Parsing '18-11-2011' in DD/MM/YYYY format. Provide format or specify infer_datetime_format=True for consistent parsing.\n",
      "  cache_array = _maybe_cache(arg, format, cache, convert_listlike)\n",
      "C:\\Users\\Shanthini\\anaconda3\\lib\\site-packages\\pandas\\core\\tools\\datetimes.py:1047: UserWarning: Parsing '25-11-2011' in DD/MM/YYYY format. Provide format or specify infer_datetime_format=True for consistent parsing.\n",
      "  cache_array = _maybe_cache(arg, format, cache, convert_listlike)\n",
      "C:\\Users\\Shanthini\\anaconda3\\lib\\site-packages\\pandas\\core\\tools\\datetimes.py:1047: UserWarning: Parsing '16-12-2011' in DD/MM/YYYY format. Provide format or specify infer_datetime_format=True for consistent parsing.\n",
      "  cache_array = _maybe_cache(arg, format, cache, convert_listlike)\n",
      "C:\\Users\\Shanthini\\anaconda3\\lib\\site-packages\\pandas\\core\\tools\\datetimes.py:1047: UserWarning: Parsing '23-12-2011' in DD/MM/YYYY format. Provide format or specify infer_datetime_format=True for consistent parsing.\n",
      "  cache_array = _maybe_cache(arg, format, cache, convert_listlike)\n",
      "C:\\Users\\Shanthini\\anaconda3\\lib\\site-packages\\pandas\\core\\tools\\datetimes.py:1047: UserWarning: Parsing '30-12-2011' in DD/MM/YYYY format. Provide format or specify infer_datetime_format=True for consistent parsing.\n",
      "  cache_array = _maybe_cache(arg, format, cache, convert_listlike)\n",
      "C:\\Users\\Shanthini\\anaconda3\\lib\\site-packages\\pandas\\core\\tools\\datetimes.py:1047: UserWarning: Parsing '13-01-2012' in DD/MM/YYYY format. Provide format or specify infer_datetime_format=True for consistent parsing.\n",
      "  cache_array = _maybe_cache(arg, format, cache, convert_listlike)\n",
      "C:\\Users\\Shanthini\\anaconda3\\lib\\site-packages\\pandas\\core\\tools\\datetimes.py:1047: UserWarning: Parsing '20-01-2012' in DD/MM/YYYY format. Provide format or specify infer_datetime_format=True for consistent parsing.\n",
      "  cache_array = _maybe_cache(arg, format, cache, convert_listlike)\n",
      "C:\\Users\\Shanthini\\anaconda3\\lib\\site-packages\\pandas\\core\\tools\\datetimes.py:1047: UserWarning: Parsing '27-01-2012' in DD/MM/YYYY format. Provide format or specify infer_datetime_format=True for consistent parsing.\n",
      "  cache_array = _maybe_cache(arg, format, cache, convert_listlike)\n",
      "C:\\Users\\Shanthini\\anaconda3\\lib\\site-packages\\pandas\\core\\tools\\datetimes.py:1047: UserWarning: Parsing '17-02-2012' in DD/MM/YYYY format. Provide format or specify infer_datetime_format=True for consistent parsing.\n",
      "  cache_array = _maybe_cache(arg, format, cache, convert_listlike)\n",
      "C:\\Users\\Shanthini\\anaconda3\\lib\\site-packages\\pandas\\core\\tools\\datetimes.py:1047: UserWarning: Parsing '24-02-2012' in DD/MM/YYYY format. Provide format or specify infer_datetime_format=True for consistent parsing.\n",
      "  cache_array = _maybe_cache(arg, format, cache, convert_listlike)\n",
      "C:\\Users\\Shanthini\\anaconda3\\lib\\site-packages\\pandas\\core\\tools\\datetimes.py:1047: UserWarning: Parsing '16-03-2012' in DD/MM/YYYY format. Provide format or specify infer_datetime_format=True for consistent parsing.\n",
      "  cache_array = _maybe_cache(arg, format, cache, convert_listlike)\n",
      "C:\\Users\\Shanthini\\anaconda3\\lib\\site-packages\\pandas\\core\\tools\\datetimes.py:1047: UserWarning: Parsing '23-03-2012' in DD/MM/YYYY format. Provide format or specify infer_datetime_format=True for consistent parsing.\n",
      "  cache_array = _maybe_cache(arg, format, cache, convert_listlike)\n",
      "C:\\Users\\Shanthini\\anaconda3\\lib\\site-packages\\pandas\\core\\tools\\datetimes.py:1047: UserWarning: Parsing '30-03-2012' in DD/MM/YYYY format. Provide format or specify infer_datetime_format=True for consistent parsing.\n",
      "  cache_array = _maybe_cache(arg, format, cache, convert_listlike)\n",
      "C:\\Users\\Shanthini\\anaconda3\\lib\\site-packages\\pandas\\core\\tools\\datetimes.py:1047: UserWarning: Parsing '13-04-2012' in DD/MM/YYYY format. Provide format or specify infer_datetime_format=True for consistent parsing.\n",
      "  cache_array = _maybe_cache(arg, format, cache, convert_listlike)\n",
      "C:\\Users\\Shanthini\\anaconda3\\lib\\site-packages\\pandas\\core\\tools\\datetimes.py:1047: UserWarning: Parsing '20-04-2012' in DD/MM/YYYY format. Provide format or specify infer_datetime_format=True for consistent parsing.\n",
      "  cache_array = _maybe_cache(arg, format, cache, convert_listlike)\n",
      "C:\\Users\\Shanthini\\anaconda3\\lib\\site-packages\\pandas\\core\\tools\\datetimes.py:1047: UserWarning: Parsing '27-04-2012' in DD/MM/YYYY format. Provide format or specify infer_datetime_format=True for consistent parsing.\n",
      "  cache_array = _maybe_cache(arg, format, cache, convert_listlike)\n",
      "C:\\Users\\Shanthini\\anaconda3\\lib\\site-packages\\pandas\\core\\tools\\datetimes.py:1047: UserWarning: Parsing '18-05-2012' in DD/MM/YYYY format. Provide format or specify infer_datetime_format=True for consistent parsing.\n",
      "  cache_array = _maybe_cache(arg, format, cache, convert_listlike)\n",
      "C:\\Users\\Shanthini\\anaconda3\\lib\\site-packages\\pandas\\core\\tools\\datetimes.py:1047: UserWarning: Parsing '25-05-2012' in DD/MM/YYYY format. Provide format or specify infer_datetime_format=True for consistent parsing.\n",
      "  cache_array = _maybe_cache(arg, format, cache, convert_listlike)\n",
      "C:\\Users\\Shanthini\\anaconda3\\lib\\site-packages\\pandas\\core\\tools\\datetimes.py:1047: UserWarning: Parsing '15-06-2012' in DD/MM/YYYY format. Provide format or specify infer_datetime_format=True for consistent parsing.\n",
      "  cache_array = _maybe_cache(arg, format, cache, convert_listlike)\n",
      "C:\\Users\\Shanthini\\anaconda3\\lib\\site-packages\\pandas\\core\\tools\\datetimes.py:1047: UserWarning: Parsing '22-06-2012' in DD/MM/YYYY format. Provide format or specify infer_datetime_format=True for consistent parsing.\n",
      "  cache_array = _maybe_cache(arg, format, cache, convert_listlike)\n",
      "C:\\Users\\Shanthini\\anaconda3\\lib\\site-packages\\pandas\\core\\tools\\datetimes.py:1047: UserWarning: Parsing '29-06-2012' in DD/MM/YYYY format. Provide format or specify infer_datetime_format=True for consistent parsing.\n",
      "  cache_array = _maybe_cache(arg, format, cache, convert_listlike)\n",
      "C:\\Users\\Shanthini\\anaconda3\\lib\\site-packages\\pandas\\core\\tools\\datetimes.py:1047: UserWarning: Parsing '13-07-2012' in DD/MM/YYYY format. Provide format or specify infer_datetime_format=True for consistent parsing.\n",
      "  cache_array = _maybe_cache(arg, format, cache, convert_listlike)\n",
      "C:\\Users\\Shanthini\\anaconda3\\lib\\site-packages\\pandas\\core\\tools\\datetimes.py:1047: UserWarning: Parsing '20-07-2012' in DD/MM/YYYY format. Provide format or specify infer_datetime_format=True for consistent parsing.\n",
      "  cache_array = _maybe_cache(arg, format, cache, convert_listlike)\n",
      "C:\\Users\\Shanthini\\anaconda3\\lib\\site-packages\\pandas\\core\\tools\\datetimes.py:1047: UserWarning: Parsing '27-07-2012' in DD/MM/YYYY format. Provide format or specify infer_datetime_format=True for consistent parsing.\n",
      "  cache_array = _maybe_cache(arg, format, cache, convert_listlike)\n",
      "C:\\Users\\Shanthini\\anaconda3\\lib\\site-packages\\pandas\\core\\tools\\datetimes.py:1047: UserWarning: Parsing '17-08-2012' in DD/MM/YYYY format. Provide format or specify infer_datetime_format=True for consistent parsing.\n",
      "  cache_array = _maybe_cache(arg, format, cache, convert_listlike)\n",
      "C:\\Users\\Shanthini\\anaconda3\\lib\\site-packages\\pandas\\core\\tools\\datetimes.py:1047: UserWarning: Parsing '24-08-2012' in DD/MM/YYYY format. Provide format or specify infer_datetime_format=True for consistent parsing.\n",
      "  cache_array = _maybe_cache(arg, format, cache, convert_listlike)\n",
      "C:\\Users\\Shanthini\\anaconda3\\lib\\site-packages\\pandas\\core\\tools\\datetimes.py:1047: UserWarning: Parsing '31-08-2012' in DD/MM/YYYY format. Provide format or specify infer_datetime_format=True for consistent parsing.\n",
      "  cache_array = _maybe_cache(arg, format, cache, convert_listlike)\n",
      "C:\\Users\\Shanthini\\anaconda3\\lib\\site-packages\\pandas\\core\\tools\\datetimes.py:1047: UserWarning: Parsing '14-09-2012' in DD/MM/YYYY format. Provide format or specify infer_datetime_format=True for consistent parsing.\n",
      "  cache_array = _maybe_cache(arg, format, cache, convert_listlike)\n",
      "C:\\Users\\Shanthini\\anaconda3\\lib\\site-packages\\pandas\\core\\tools\\datetimes.py:1047: UserWarning: Parsing '21-09-2012' in DD/MM/YYYY format. Provide format or specify infer_datetime_format=True for consistent parsing.\n",
      "  cache_array = _maybe_cache(arg, format, cache, convert_listlike)\n",
      "C:\\Users\\Shanthini\\anaconda3\\lib\\site-packages\\pandas\\core\\tools\\datetimes.py:1047: UserWarning: Parsing '28-09-2012' in DD/MM/YYYY format. Provide format or specify infer_datetime_format=True for consistent parsing.\n",
      "  cache_array = _maybe_cache(arg, format, cache, convert_listlike)\n",
      "C:\\Users\\Shanthini\\anaconda3\\lib\\site-packages\\pandas\\core\\tools\\datetimes.py:1047: UserWarning: Parsing '19-10-2012' in DD/MM/YYYY format. Provide format or specify infer_datetime_format=True for consistent parsing.\n",
      "  cache_array = _maybe_cache(arg, format, cache, convert_listlike)\n",
      "C:\\Users\\Shanthini\\anaconda3\\lib\\site-packages\\pandas\\core\\tools\\datetimes.py:1047: UserWarning: Parsing '26-10-2012' in DD/MM/YYYY format. Provide format or specify infer_datetime_format=True for consistent parsing.\n",
      "  cache_array = _maybe_cache(arg, format, cache, convert_listlike)\n"
     ]
    },
    {
     "data": {
      "text/html": [
       "<div>\n",
       "<style scoped>\n",
       "    .dataframe tbody tr th:only-of-type {\n",
       "        vertical-align: middle;\n",
       "    }\n",
       "\n",
       "    .dataframe tbody tr th {\n",
       "        vertical-align: top;\n",
       "    }\n",
       "\n",
       "    .dataframe thead th {\n",
       "        text-align: right;\n",
       "    }\n",
       "</style>\n",
       "<table border=\"1\" class=\"dataframe\">\n",
       "  <thead>\n",
       "    <tr style=\"text-align: right;\">\n",
       "      <th></th>\n",
       "      <th>Store</th>\n",
       "      <th>Date</th>\n",
       "      <th>Weekly_Sales</th>\n",
       "      <th>Holiday_Flag</th>\n",
       "      <th>Temperature</th>\n",
       "      <th>Fuel_Price</th>\n",
       "      <th>CPI</th>\n",
       "      <th>Unemployment</th>\n",
       "    </tr>\n",
       "  </thead>\n",
       "  <tbody>\n",
       "    <tr>\n",
       "      <th>0</th>\n",
       "      <td>1</td>\n",
       "      <td>2010-05-02</td>\n",
       "      <td>1643690.90</td>\n",
       "      <td>0</td>\n",
       "      <td>42.31</td>\n",
       "      <td>2.572</td>\n",
       "      <td>211.096358</td>\n",
       "      <td>8.106</td>\n",
       "    </tr>\n",
       "    <tr>\n",
       "      <th>1</th>\n",
       "      <td>1</td>\n",
       "      <td>2010-12-02</td>\n",
       "      <td>1641957.44</td>\n",
       "      <td>1</td>\n",
       "      <td>38.51</td>\n",
       "      <td>2.548</td>\n",
       "      <td>211.242170</td>\n",
       "      <td>8.106</td>\n",
       "    </tr>\n",
       "    <tr>\n",
       "      <th>2</th>\n",
       "      <td>1</td>\n",
       "      <td>2010-02-19</td>\n",
       "      <td>1611968.17</td>\n",
       "      <td>0</td>\n",
       "      <td>39.93</td>\n",
       "      <td>2.514</td>\n",
       "      <td>211.289143</td>\n",
       "      <td>8.106</td>\n",
       "    </tr>\n",
       "    <tr>\n",
       "      <th>3</th>\n",
       "      <td>1</td>\n",
       "      <td>2010-02-26</td>\n",
       "      <td>1409727.59</td>\n",
       "      <td>0</td>\n",
       "      <td>46.63</td>\n",
       "      <td>2.561</td>\n",
       "      <td>211.319643</td>\n",
       "      <td>8.106</td>\n",
       "    </tr>\n",
       "    <tr>\n",
       "      <th>4</th>\n",
       "      <td>1</td>\n",
       "      <td>2010-05-03</td>\n",
       "      <td>1554806.68</td>\n",
       "      <td>0</td>\n",
       "      <td>46.50</td>\n",
       "      <td>2.625</td>\n",
       "      <td>211.350143</td>\n",
       "      <td>8.106</td>\n",
       "    </tr>\n",
       "  </tbody>\n",
       "</table>\n",
       "</div>"
      ],
      "text/plain": [
       "   Store       Date  Weekly_Sales  Holiday_Flag  Temperature  Fuel_Price  \\\n",
       "0      1 2010-05-02    1643690.90             0        42.31       2.572   \n",
       "1      1 2010-12-02    1641957.44             1        38.51       2.548   \n",
       "2      1 2010-02-19    1611968.17             0        39.93       2.514   \n",
       "3      1 2010-02-26    1409727.59             0        46.63       2.561   \n",
       "4      1 2010-05-03    1554806.68             0        46.50       2.625   \n",
       "\n",
       "          CPI  Unemployment  \n",
       "0  211.096358         8.106  \n",
       "1  211.242170         8.106  \n",
       "2  211.289143         8.106  \n",
       "3  211.319643         8.106  \n",
       "4  211.350143         8.106  "
      ]
     },
     "execution_count": 14,
     "metadata": {},
     "output_type": "execute_result"
    }
   ],
   "source": [
    "#converting the date in object format to date-time format \n",
    "\n",
    "df['Date'] = pd.to_datetime(df['Date'])\n",
    "df.head()"
   ]
  },
  {
   "cell_type": "markdown",
   "id": "1b9bedcc",
   "metadata": {},
   "source": [
    "pd.to_datetime() -- function in pandas to convert the series of values into datetime format. Takes series as an argument."
   ]
  },
  {
   "cell_type": "code",
   "execution_count": 15,
   "id": "4a20cd08",
   "metadata": {},
   "outputs": [
    {
     "data": {
      "text/plain": [
       "Store                    int64\n",
       "Date            datetime64[ns]\n",
       "Weekly_Sales           float64\n",
       "Holiday_Flag             int64\n",
       "Temperature            float64\n",
       "Fuel_Price             float64\n",
       "CPI                    float64\n",
       "Unemployment           float64\n",
       "dtype: object"
      ]
     },
     "execution_count": 15,
     "metadata": {},
     "output_type": "execute_result"
    }
   ],
   "source": [
    "df.dtypes"
   ]
  },
  {
   "cell_type": "code",
   "execution_count": 16,
   "id": "84488995",
   "metadata": {},
   "outputs": [
    {
     "data": {
      "text/html": [
       "<div>\n",
       "<style scoped>\n",
       "    .dataframe tbody tr th:only-of-type {\n",
       "        vertical-align: middle;\n",
       "    }\n",
       "\n",
       "    .dataframe tbody tr th {\n",
       "        vertical-align: top;\n",
       "    }\n",
       "\n",
       "    .dataframe thead th {\n",
       "        text-align: right;\n",
       "    }\n",
       "</style>\n",
       "<table border=\"1\" class=\"dataframe\">\n",
       "  <thead>\n",
       "    <tr style=\"text-align: right;\">\n",
       "      <th></th>\n",
       "      <th>Store</th>\n",
       "      <th>Date</th>\n",
       "      <th>Weekly_Sales</th>\n",
       "      <th>Holiday_Flag</th>\n",
       "      <th>Temperature</th>\n",
       "      <th>Fuel_Price</th>\n",
       "      <th>CPI</th>\n",
       "      <th>Unemployment</th>\n",
       "    </tr>\n",
       "  </thead>\n",
       "  <tbody>\n",
       "    <tr>\n",
       "      <th>4144</th>\n",
       "      <td>29</td>\n",
       "      <td>2012-12-10</td>\n",
       "      <td>513737.00</td>\n",
       "      <td>0</td>\n",
       "      <td>54.18</td>\n",
       "      <td>4.029</td>\n",
       "      <td>138.911700</td>\n",
       "      <td>9.151</td>\n",
       "    </tr>\n",
       "    <tr>\n",
       "      <th>5574</th>\n",
       "      <td>39</td>\n",
       "      <td>2012-12-10</td>\n",
       "      <td>1494417.07</td>\n",
       "      <td>0</td>\n",
       "      <td>69.88</td>\n",
       "      <td>3.601</td>\n",
       "      <td>222.051079</td>\n",
       "      <td>6.228</td>\n",
       "    </tr>\n",
       "    <tr>\n",
       "      <th>712</th>\n",
       "      <td>5</td>\n",
       "      <td>2012-12-10</td>\n",
       "      <td>325345.41</td>\n",
       "      <td>0</td>\n",
       "      <td>66.24</td>\n",
       "      <td>3.601</td>\n",
       "      <td>223.974787</td>\n",
       "      <td>5.422</td>\n",
       "    </tr>\n",
       "    <tr>\n",
       "      <th>4573</th>\n",
       "      <td>32</td>\n",
       "      <td>2012-12-10</td>\n",
       "      <td>1176681.31</td>\n",
       "      <td>0</td>\n",
       "      <td>43.49</td>\n",
       "      <td>3.760</td>\n",
       "      <td>199.053937</td>\n",
       "      <td>7.557</td>\n",
       "    </tr>\n",
       "    <tr>\n",
       "      <th>5717</th>\n",
       "      <td>40</td>\n",
       "      <td>2012-12-10</td>\n",
       "      <td>982523.26</td>\n",
       "      <td>0</td>\n",
       "      <td>47.35</td>\n",
       "      <td>4.029</td>\n",
       "      <td>138.911700</td>\n",
       "      <td>4.145</td>\n",
       "    </tr>\n",
       "    <tr>\n",
       "      <th>...</th>\n",
       "      <td>...</td>\n",
       "      <td>...</td>\n",
       "      <td>...</td>\n",
       "      <td>...</td>\n",
       "      <td>...</td>\n",
       "      <td>...</td>\n",
       "      <td>...</td>\n",
       "      <td>...</td>\n",
       "    </tr>\n",
       "    <tr>\n",
       "      <th>1321</th>\n",
       "      <td>10</td>\n",
       "      <td>2010-01-10</td>\n",
       "      <td>1645892.97</td>\n",
       "      <td>0</td>\n",
       "      <td>86.01</td>\n",
       "      <td>3.001</td>\n",
       "      <td>126.234600</td>\n",
       "      <td>9.003</td>\n",
       "    </tr>\n",
       "    <tr>\n",
       "      <th>3180</th>\n",
       "      <td>23</td>\n",
       "      <td>2010-01-10</td>\n",
       "      <td>1129909.44</td>\n",
       "      <td>0</td>\n",
       "      <td>62.07</td>\n",
       "      <td>2.717</td>\n",
       "      <td>132.756800</td>\n",
       "      <td>5.287</td>\n",
       "    </tr>\n",
       "    <tr>\n",
       "      <th>5754</th>\n",
       "      <td>41</td>\n",
       "      <td>2010-01-10</td>\n",
       "      <td>1109216.35</td>\n",
       "      <td>0</td>\n",
       "      <td>62.67</td>\n",
       "      <td>2.759</td>\n",
       "      <td>190.673824</td>\n",
       "      <td>7.508</td>\n",
       "    </tr>\n",
       "    <tr>\n",
       "      <th>5468</th>\n",
       "      <td>39</td>\n",
       "      <td>2010-01-10</td>\n",
       "      <td>1219583.91</td>\n",
       "      <td>0</td>\n",
       "      <td>72.74</td>\n",
       "      <td>2.603</td>\n",
       "      <td>210.440443</td>\n",
       "      <td>8.476</td>\n",
       "    </tr>\n",
       "    <tr>\n",
       "      <th>5039</th>\n",
       "      <td>36</td>\n",
       "      <td>2010-01-10</td>\n",
       "      <td>422169.47</td>\n",
       "      <td>0</td>\n",
       "      <td>74.66</td>\n",
       "      <td>2.567</td>\n",
       "      <td>210.440443</td>\n",
       "      <td>8.476</td>\n",
       "    </tr>\n",
       "  </tbody>\n",
       "</table>\n",
       "<p>6435 rows × 8 columns</p>\n",
       "</div>"
      ],
      "text/plain": [
       "      Store       Date  Weekly_Sales  Holiday_Flag  Temperature  Fuel_Price  \\\n",
       "4144     29 2012-12-10     513737.00             0        54.18       4.029   \n",
       "5574     39 2012-12-10    1494417.07             0        69.88       3.601   \n",
       "712       5 2012-12-10     325345.41             0        66.24       3.601   \n",
       "4573     32 2012-12-10    1176681.31             0        43.49       3.760   \n",
       "5717     40 2012-12-10     982523.26             0        47.35       4.029   \n",
       "...     ...        ...           ...           ...          ...         ...   \n",
       "1321     10 2010-01-10    1645892.97             0        86.01       3.001   \n",
       "3180     23 2010-01-10    1129909.44             0        62.07       2.717   \n",
       "5754     41 2010-01-10    1109216.35             0        62.67       2.759   \n",
       "5468     39 2010-01-10    1219583.91             0        72.74       2.603   \n",
       "5039     36 2010-01-10     422169.47             0        74.66       2.567   \n",
       "\n",
       "             CPI  Unemployment  \n",
       "4144  138.911700         9.151  \n",
       "5574  222.051079         6.228  \n",
       "712   223.974787         5.422  \n",
       "4573  199.053937         7.557  \n",
       "5717  138.911700         4.145  \n",
       "...          ...           ...  \n",
       "1321  126.234600         9.003  \n",
       "3180  132.756800         5.287  \n",
       "5754  190.673824         7.508  \n",
       "5468  210.440443         8.476  \n",
       "5039  210.440443         8.476  \n",
       "\n",
       "[6435 rows x 8 columns]"
      ]
     },
     "execution_count": 16,
     "metadata": {},
     "output_type": "execute_result"
    }
   ],
   "source": [
    "df.sort_values(by='Date',ascending = False)"
   ]
  },
  {
   "cell_type": "code",
   "execution_count": 17,
   "id": "232718f2",
   "metadata": {},
   "outputs": [],
   "source": [
    "#lets split the date column into day, month, year \n",
    "\n",
    "df['Day'] = pd.DatetimeIndex(df['Date']).day\n",
    "df['Month'] = pd.DatetimeIndex(df['Date']).month\n",
    "df['Year'] = pd.DatetimeIndex(df['Date']).year"
   ]
  },
  {
   "cell_type": "code",
   "execution_count": 18,
   "id": "c2ba0a44",
   "metadata": {},
   "outputs": [
    {
     "data": {
      "text/html": [
       "<div>\n",
       "<style scoped>\n",
       "    .dataframe tbody tr th:only-of-type {\n",
       "        vertical-align: middle;\n",
       "    }\n",
       "\n",
       "    .dataframe tbody tr th {\n",
       "        vertical-align: top;\n",
       "    }\n",
       "\n",
       "    .dataframe thead th {\n",
       "        text-align: right;\n",
       "    }\n",
       "</style>\n",
       "<table border=\"1\" class=\"dataframe\">\n",
       "  <thead>\n",
       "    <tr style=\"text-align: right;\">\n",
       "      <th></th>\n",
       "      <th>Store</th>\n",
       "      <th>Date</th>\n",
       "      <th>Weekly_Sales</th>\n",
       "      <th>Holiday_Flag</th>\n",
       "      <th>Temperature</th>\n",
       "      <th>Fuel_Price</th>\n",
       "      <th>CPI</th>\n",
       "      <th>Unemployment</th>\n",
       "      <th>Day</th>\n",
       "      <th>Month</th>\n",
       "      <th>Year</th>\n",
       "    </tr>\n",
       "  </thead>\n",
       "  <tbody>\n",
       "    <tr>\n",
       "      <th>0</th>\n",
       "      <td>1</td>\n",
       "      <td>2010-05-02</td>\n",
       "      <td>1643690.90</td>\n",
       "      <td>0</td>\n",
       "      <td>42.31</td>\n",
       "      <td>2.572</td>\n",
       "      <td>211.096358</td>\n",
       "      <td>8.106</td>\n",
       "      <td>2</td>\n",
       "      <td>5</td>\n",
       "      <td>2010</td>\n",
       "    </tr>\n",
       "    <tr>\n",
       "      <th>1</th>\n",
       "      <td>1</td>\n",
       "      <td>2010-12-02</td>\n",
       "      <td>1641957.44</td>\n",
       "      <td>1</td>\n",
       "      <td>38.51</td>\n",
       "      <td>2.548</td>\n",
       "      <td>211.242170</td>\n",
       "      <td>8.106</td>\n",
       "      <td>2</td>\n",
       "      <td>12</td>\n",
       "      <td>2010</td>\n",
       "    </tr>\n",
       "    <tr>\n",
       "      <th>2</th>\n",
       "      <td>1</td>\n",
       "      <td>2010-02-19</td>\n",
       "      <td>1611968.17</td>\n",
       "      <td>0</td>\n",
       "      <td>39.93</td>\n",
       "      <td>2.514</td>\n",
       "      <td>211.289143</td>\n",
       "      <td>8.106</td>\n",
       "      <td>19</td>\n",
       "      <td>2</td>\n",
       "      <td>2010</td>\n",
       "    </tr>\n",
       "    <tr>\n",
       "      <th>3</th>\n",
       "      <td>1</td>\n",
       "      <td>2010-02-26</td>\n",
       "      <td>1409727.59</td>\n",
       "      <td>0</td>\n",
       "      <td>46.63</td>\n",
       "      <td>2.561</td>\n",
       "      <td>211.319643</td>\n",
       "      <td>8.106</td>\n",
       "      <td>26</td>\n",
       "      <td>2</td>\n",
       "      <td>2010</td>\n",
       "    </tr>\n",
       "    <tr>\n",
       "      <th>4</th>\n",
       "      <td>1</td>\n",
       "      <td>2010-05-03</td>\n",
       "      <td>1554806.68</td>\n",
       "      <td>0</td>\n",
       "      <td>46.50</td>\n",
       "      <td>2.625</td>\n",
       "      <td>211.350143</td>\n",
       "      <td>8.106</td>\n",
       "      <td>3</td>\n",
       "      <td>5</td>\n",
       "      <td>2010</td>\n",
       "    </tr>\n",
       "  </tbody>\n",
       "</table>\n",
       "</div>"
      ],
      "text/plain": [
       "   Store       Date  Weekly_Sales  Holiday_Flag  Temperature  Fuel_Price  \\\n",
       "0      1 2010-05-02    1643690.90             0        42.31       2.572   \n",
       "1      1 2010-12-02    1641957.44             1        38.51       2.548   \n",
       "2      1 2010-02-19    1611968.17             0        39.93       2.514   \n",
       "3      1 2010-02-26    1409727.59             0        46.63       2.561   \n",
       "4      1 2010-05-03    1554806.68             0        46.50       2.625   \n",
       "\n",
       "          CPI  Unemployment  Day  Month  Year  \n",
       "0  211.096358         8.106    2      5  2010  \n",
       "1  211.242170         8.106    2     12  2010  \n",
       "2  211.289143         8.106   19      2  2010  \n",
       "3  211.319643         8.106   26      2  2010  \n",
       "4  211.350143         8.106    3      5  2010  "
      ]
     },
     "execution_count": 18,
     "metadata": {},
     "output_type": "execute_result"
    }
   ],
   "source": [
    "df.head()"
   ]
  },
  {
   "cell_type": "code",
   "execution_count": null,
   "id": "89953371",
   "metadata": {},
   "outputs": [],
   "source": []
  },
  {
   "cell_type": "code",
   "execution_count": null,
   "id": "6eb8559a",
   "metadata": {},
   "outputs": [],
   "source": []
  },
  {
   "cell_type": "code",
   "execution_count": null,
   "id": "ee00ff2e",
   "metadata": {},
   "outputs": [],
   "source": []
  },
  {
   "cell_type": "markdown",
   "id": "33bc6fb1",
   "metadata": {},
   "source": [
    "OBJECTIVES OF THE ANALYSIS : \n",
    "\n",
    "1) Which store has minimum and maximum sales?\n",
    "\n",
    "2) Which store has maximum standard deviation i.e., the sales vary a lot. Also, find out the coefficient of mean to standard deviation\n",
    "\n",
    "3) Which store/s has good quarterly growth rate in Q3’2012\n",
    "\n",
    "4) Some holidays have a negative impact on sales. Find out holidays which have higher sales than the mean sales in non-holiday season for all stores together\n",
    "\n",
    "5) Provide a monthly and semester view of sales in units and give insights\n",
    "\n",
    "6) Build prediction to forecast demand."
   ]
  },
  {
   "cell_type": "code",
   "execution_count": 19,
   "id": "a06a7bef",
   "metadata": {},
   "outputs": [
    {
     "data": {
      "text/plain": [
       "array([ 1,  2,  3,  4,  5,  6,  7,  8,  9, 10, 11, 12, 13, 14, 15, 16, 17,\n",
       "       18, 19, 20, 21, 22, 23, 24, 25, 26, 27, 28, 29, 30, 31, 32, 33, 34,\n",
       "       35, 36, 37, 38, 39, 40, 41, 42, 43, 44, 45], dtype=int64)"
      ]
     },
     "execution_count": 19,
     "metadata": {},
     "output_type": "execute_result"
    }
   ],
   "source": [
    "df['Store'].unique()"
   ]
  },
  {
   "cell_type": "code",
   "execution_count": 20,
   "id": "8e82a6cc",
   "metadata": {},
   "outputs": [
    {
     "data": {
      "text/plain": [
       "Store\n",
       "33    3.716022e+07\n",
       "44    4.329309e+07\n",
       "5     4.547569e+07\n",
       "36    5.341221e+07\n",
       "38    5.515963e+07\n",
       "3     5.758674e+07\n",
       "30    6.271689e+07\n",
       "37    7.420274e+07\n",
       "16    7.425243e+07\n",
       "29    7.714155e+07\n",
       "9     7.778922e+07\n",
       "42    7.956575e+07\n",
       "7     8.159828e+07\n",
       "15    8.913368e+07\n",
       "43    9.056544e+07\n",
       "25    1.010612e+08\n",
       "21    1.081179e+08\n",
       "45    1.123953e+08\n",
       "17    1.277821e+08\n",
       "8     1.299512e+08\n",
       "35    1.315207e+08\n",
       "40    1.378703e+08\n",
       "34    1.382498e+08\n",
       "26    1.434164e+08\n",
       "12    1.442872e+08\n",
       "22    1.470756e+08\n",
       "18    1.551147e+08\n",
       "32    1.668192e+08\n",
       "41    1.813419e+08\n",
       "28    1.892637e+08\n",
       "11    1.939628e+08\n",
       "24    1.940160e+08\n",
       "23    1.987506e+08\n",
       "31    1.996139e+08\n",
       "19    2.066349e+08\n",
       "39    2.074455e+08\n",
       "1     2.224028e+08\n",
       "6     2.237561e+08\n",
       "27    2.538559e+08\n",
       "10    2.716177e+08\n",
       "2     2.753824e+08\n",
       "13    2.865177e+08\n",
       "14    2.889999e+08\n",
       "4     2.995440e+08\n",
       "20    3.013978e+08\n",
       "Name: Weekly_Sales, dtype: float64"
      ]
     },
     "execution_count": 20,
     "metadata": {},
     "output_type": "execute_result"
    }
   ],
   "source": [
    "#minimum and maximum sales\n",
    "\n",
    "weekly_sales_per_store = df.groupby('Store')['Weekly_Sales'].sum().sort_values()\n",
    "weekly_sales_per_store"
   ]
  },
  {
   "cell_type": "markdown",
   "id": "258b4be9",
   "metadata": {},
   "source": [
    "*step 1 : grouping the 'Weekly_Sales' data based on the particular store \n",
    "*step 2 : and then sum it "
   ]
  },
  {
   "cell_type": "code",
   "execution_count": 21,
   "id": "810115c9",
   "metadata": {},
   "outputs": [
    {
     "data": {
      "text/plain": [
       "array([3.71602220e+07, 4.32930878e+07, 4.54756889e+07, 5.34122150e+07,\n",
       "       5.51596264e+07, 5.75867351e+07, 6.27168851e+07, 7.42027403e+07,\n",
       "       7.42524254e+07, 7.71415543e+07, 7.77892190e+07, 7.95657524e+07,\n",
       "       8.15982751e+07, 8.91336839e+07, 9.05654354e+07, 1.01061179e+08,\n",
       "       1.08117879e+08, 1.12395341e+08, 1.27782139e+08, 1.29951181e+08,\n",
       "       1.31520672e+08, 1.37870310e+08, 1.38249763e+08, 1.43416394e+08,\n",
       "       1.44287230e+08, 1.47075649e+08, 1.55114734e+08, 1.66819246e+08,\n",
       "       1.81341935e+08, 1.89263681e+08, 1.93962787e+08, 1.94016021e+08,\n",
       "       1.98750618e+08, 1.99613906e+08, 2.06634862e+08, 2.07445542e+08,\n",
       "       2.22402809e+08, 2.23756131e+08, 2.53855917e+08, 2.71617714e+08,\n",
       "       2.75382441e+08, 2.86517704e+08, 2.88999911e+08, 2.99543953e+08,\n",
       "       3.01397792e+08])"
      ]
     },
     "execution_count": 21,
     "metadata": {},
     "output_type": "execute_result"
    }
   ],
   "source": [
    "total_sales_per_store = np.array(weekly_sales_per_store)\n",
    "total_sales_per_store"
   ]
  },
  {
   "cell_type": "code",
   "execution_count": 22,
   "id": "8aa161c9",
   "metadata": {},
   "outputs": [
    {
     "data": {
      "text/plain": [
       "Text(0, 0.5, 'Sales')"
      ]
     },
     "execution_count": 22,
     "metadata": {},
     "output_type": "execute_result"
    },
    {
     "data": {
      "image/png": "[encoded data removed]",
      "text/plain": [
       "<Figure size 2160x1080 with 1 Axes>"
      ]
     },
     "metadata": {
      "needs_background": "light"
     },
     "output_type": "display_data"
    }
   ],
   "source": [
    "plt.figure(figsize=(30,15))\n",
    "weekly_sales_per_store.plot(kind='bar')\n",
    "plt.title(\"Total sales of each store\")\n",
    "plt.xlabel(\"Stores\")\n",
    "plt.ylabel(\"Sales\")"
   ]
  },
  {
   "cell_type": "markdown",
   "id": "3b23997c",
   "metadata": {},
   "source": [
    "From the above figure, it is inferred that the store 33 has the minimum sales and the store 20 has the maximum sales."
   ]
  },
  {
   "cell_type": "code",
   "execution_count": 23,
   "id": "5fd5d567",
   "metadata": {},
   "outputs": [],
   "source": [
    "#grouping the data by stores.\n",
    "df_new = df.groupby('Store')"
   ]
  },
  {
   "cell_type": "code",
   "execution_count": 24,
   "id": "ea939c84",
   "metadata": {},
   "outputs": [
    {
     "data": {
      "text/html": [
       "<div>\n",
       "<style scoped>\n",
       "    .dataframe tbody tr th:only-of-type {\n",
       "        vertical-align: middle;\n",
       "    }\n",
       "\n",
       "    .dataframe tbody tr th {\n",
       "        vertical-align: top;\n",
       "    }\n",
       "\n",
       "    .dataframe thead th {\n",
       "        text-align: right;\n",
       "    }\n",
       "</style>\n",
       "<table border=\"1\" class=\"dataframe\">\n",
       "  <thead>\n",
       "    <tr style=\"text-align: right;\">\n",
       "      <th></th>\n",
       "      <th>Store</th>\n",
       "      <th>Date</th>\n",
       "      <th>Weekly_Sales</th>\n",
       "      <th>Holiday_Flag</th>\n",
       "      <th>Temperature</th>\n",
       "      <th>Fuel_Price</th>\n",
       "      <th>CPI</th>\n",
       "      <th>Unemployment</th>\n",
       "      <th>Day</th>\n",
       "      <th>Month</th>\n",
       "      <th>Year</th>\n",
       "    </tr>\n",
       "  </thead>\n",
       "  <tbody>\n",
       "    <tr>\n",
       "      <th>0</th>\n",
       "      <td>1</td>\n",
       "      <td>2010-05-02</td>\n",
       "      <td>1643690.90</td>\n",
       "      <td>0</td>\n",
       "      <td>42.31</td>\n",
       "      <td>2.572</td>\n",
       "      <td>211.096358</td>\n",
       "      <td>8.106</td>\n",
       "      <td>2</td>\n",
       "      <td>5</td>\n",
       "      <td>2010</td>\n",
       "    </tr>\n",
       "    <tr>\n",
       "      <th>1</th>\n",
       "      <td>1</td>\n",
       "      <td>2010-12-02</td>\n",
       "      <td>1641957.44</td>\n",
       "      <td>1</td>\n",
       "      <td>38.51</td>\n",
       "      <td>2.548</td>\n",
       "      <td>211.242170</td>\n",
       "      <td>8.106</td>\n",
       "      <td>2</td>\n",
       "      <td>12</td>\n",
       "      <td>2010</td>\n",
       "    </tr>\n",
       "    <tr>\n",
       "      <th>2</th>\n",
       "      <td>1</td>\n",
       "      <td>2010-02-19</td>\n",
       "      <td>1611968.17</td>\n",
       "      <td>0</td>\n",
       "      <td>39.93</td>\n",
       "      <td>2.514</td>\n",
       "      <td>211.289143</td>\n",
       "      <td>8.106</td>\n",
       "      <td>19</td>\n",
       "      <td>2</td>\n",
       "      <td>2010</td>\n",
       "    </tr>\n",
       "    <tr>\n",
       "      <th>3</th>\n",
       "      <td>1</td>\n",
       "      <td>2010-02-26</td>\n",
       "      <td>1409727.59</td>\n",
       "      <td>0</td>\n",
       "      <td>46.63</td>\n",
       "      <td>2.561</td>\n",
       "      <td>211.319643</td>\n",
       "      <td>8.106</td>\n",
       "      <td>26</td>\n",
       "      <td>2</td>\n",
       "      <td>2010</td>\n",
       "    </tr>\n",
       "    <tr>\n",
       "      <th>4</th>\n",
       "      <td>1</td>\n",
       "      <td>2010-05-03</td>\n",
       "      <td>1554806.68</td>\n",
       "      <td>0</td>\n",
       "      <td>46.50</td>\n",
       "      <td>2.625</td>\n",
       "      <td>211.350143</td>\n",
       "      <td>8.106</td>\n",
       "      <td>3</td>\n",
       "      <td>5</td>\n",
       "      <td>2010</td>\n",
       "    </tr>\n",
       "    <tr>\n",
       "      <th>...</th>\n",
       "      <td>...</td>\n",
       "      <td>...</td>\n",
       "      <td>...</td>\n",
       "      <td>...</td>\n",
       "      <td>...</td>\n",
       "      <td>...</td>\n",
       "      <td>...</td>\n",
       "      <td>...</td>\n",
       "      <td>...</td>\n",
       "      <td>...</td>\n",
       "      <td>...</td>\n",
       "    </tr>\n",
       "    <tr>\n",
       "      <th>6292</th>\n",
       "      <td>45</td>\n",
       "      <td>2010-05-02</td>\n",
       "      <td>890689.51</td>\n",
       "      <td>0</td>\n",
       "      <td>27.31</td>\n",
       "      <td>2.784</td>\n",
       "      <td>181.871190</td>\n",
       "      <td>8.992</td>\n",
       "      <td>2</td>\n",
       "      <td>5</td>\n",
       "      <td>2010</td>\n",
       "    </tr>\n",
       "    <tr>\n",
       "      <th>6293</th>\n",
       "      <td>45</td>\n",
       "      <td>2010-12-02</td>\n",
       "      <td>656988.64</td>\n",
       "      <td>1</td>\n",
       "      <td>27.73</td>\n",
       "      <td>2.773</td>\n",
       "      <td>181.982317</td>\n",
       "      <td>8.992</td>\n",
       "      <td>2</td>\n",
       "      <td>12</td>\n",
       "      <td>2010</td>\n",
       "    </tr>\n",
       "    <tr>\n",
       "      <th>6294</th>\n",
       "      <td>45</td>\n",
       "      <td>2010-02-19</td>\n",
       "      <td>841264.04</td>\n",
       "      <td>0</td>\n",
       "      <td>31.27</td>\n",
       "      <td>2.745</td>\n",
       "      <td>182.034782</td>\n",
       "      <td>8.992</td>\n",
       "      <td>19</td>\n",
       "      <td>2</td>\n",
       "      <td>2010</td>\n",
       "    </tr>\n",
       "    <tr>\n",
       "      <th>6295</th>\n",
       "      <td>45</td>\n",
       "      <td>2010-02-26</td>\n",
       "      <td>741891.65</td>\n",
       "      <td>0</td>\n",
       "      <td>34.89</td>\n",
       "      <td>2.754</td>\n",
       "      <td>182.077469</td>\n",
       "      <td>8.992</td>\n",
       "      <td>26</td>\n",
       "      <td>2</td>\n",
       "      <td>2010</td>\n",
       "    </tr>\n",
       "    <tr>\n",
       "      <th>6296</th>\n",
       "      <td>45</td>\n",
       "      <td>2010-05-03</td>\n",
       "      <td>777951.22</td>\n",
       "      <td>0</td>\n",
       "      <td>37.13</td>\n",
       "      <td>2.777</td>\n",
       "      <td>182.120157</td>\n",
       "      <td>8.992</td>\n",
       "      <td>3</td>\n",
       "      <td>5</td>\n",
       "      <td>2010</td>\n",
       "    </tr>\n",
       "  </tbody>\n",
       "</table>\n",
       "<p>225 rows × 11 columns</p>\n",
       "</div>"
      ],
      "text/plain": [
       "      Store       Date  Weekly_Sales  Holiday_Flag  Temperature  Fuel_Price  \\\n",
       "0         1 2010-05-02    1643690.90             0        42.31       2.572   \n",
       "1         1 2010-12-02    1641957.44             1        38.51       2.548   \n",
       "2         1 2010-02-19    1611968.17             0        39.93       2.514   \n",
       "3         1 2010-02-26    1409727.59             0        46.63       2.561   \n",
       "4         1 2010-05-03    1554806.68             0        46.50       2.625   \n",
       "...     ...        ...           ...           ...          ...         ...   \n",
       "6292     45 2010-05-02     890689.51             0        27.31       2.784   \n",
       "6293     45 2010-12-02     656988.64             1        27.73       2.773   \n",
       "6294     45 2010-02-19     841264.04             0        31.27       2.745   \n",
       "6295     45 2010-02-26     741891.65             0        34.89       2.754   \n",
       "6296     45 2010-05-03     777951.22             0        37.13       2.777   \n",
       "\n",
       "             CPI  Unemployment  Day  Month  Year  \n",
       "0     211.096358         8.106    2      5  2010  \n",
       "1     211.242170         8.106    2     12  2010  \n",
       "2     211.289143         8.106   19      2  2010  \n",
       "3     211.319643         8.106   26      2  2010  \n",
       "4     211.350143         8.106    3      5  2010  \n",
       "...          ...           ...  ...    ...   ...  \n",
       "6292  181.871190         8.992    2      5  2010  \n",
       "6293  181.982317         8.992    2     12  2010  \n",
       "6294  182.034782         8.992   19      2  2010  \n",
       "6295  182.077469         8.992   26      2  2010  \n",
       "6296  182.120157         8.992    3      5  2010  \n",
       "\n",
       "[225 rows x 11 columns]"
      ]
     },
     "execution_count": 24,
     "metadata": {},
     "output_type": "execute_result"
    }
   ],
   "source": [
    "df_new.head()"
   ]
  },
  {
   "cell_type": "code",
   "execution_count": 25,
   "id": "13a76131",
   "metadata": {
    "scrolled": false
   },
   "outputs": [
    {
     "data": {
      "text/plain": [
       "1     143\n",
       "24    143\n",
       "26    143\n",
       "27    143\n",
       "28    143\n",
       "29    143\n",
       "30    143\n",
       "31    143\n",
       "32    143\n",
       "33    143\n",
       "34    143\n",
       "35    143\n",
       "36    143\n",
       "37    143\n",
       "38    143\n",
       "39    143\n",
       "40    143\n",
       "41    143\n",
       "42    143\n",
       "43    143\n",
       "44    143\n",
       "25    143\n",
       "23    143\n",
       "2     143\n",
       "22    143\n",
       "3     143\n",
       "4     143\n",
       "5     143\n",
       "6     143\n",
       "7     143\n",
       "8     143\n",
       "9     143\n",
       "10    143\n",
       "11    143\n",
       "12    143\n",
       "13    143\n",
       "14    143\n",
       "15    143\n",
       "16    143\n",
       "17    143\n",
       "18    143\n",
       "19    143\n",
       "20    143\n",
       "21    143\n",
       "45    143\n",
       "Name: Store, dtype: int64"
      ]
     },
     "execution_count": 25,
     "metadata": {},
     "output_type": "execute_result"
    }
   ],
   "source": [
    "df['Store'].value_counts()"
   ]
  },
  {
   "cell_type": "code",
   "execution_count": 26,
   "id": "6b5c183a",
   "metadata": {},
   "outputs": [
    {
     "data": {
      "text/html": [
       "<div>\n",
       "<style scoped>\n",
       "    .dataframe tbody tr th:only-of-type {\n",
       "        vertical-align: middle;\n",
       "    }\n",
       "\n",
       "    .dataframe tbody tr th {\n",
       "        vertical-align: top;\n",
       "    }\n",
       "\n",
       "    .dataframe thead th {\n",
       "        text-align: right;\n",
       "    }\n",
       "</style>\n",
       "<table border=\"1\" class=\"dataframe\">\n",
       "  <thead>\n",
       "    <tr style=\"text-align: right;\">\n",
       "      <th></th>\n",
       "      <th>Weekly_Sales</th>\n",
       "    </tr>\n",
       "    <tr>\n",
       "      <th>Store</th>\n",
       "      <th></th>\n",
       "    </tr>\n",
       "  </thead>\n",
       "  <tbody>\n",
       "    <tr>\n",
       "      <th>14</th>\n",
       "      <td>317569.949476</td>\n",
       "    </tr>\n",
       "    <tr>\n",
       "      <th>10</th>\n",
       "      <td>302262.062504</td>\n",
       "    </tr>\n",
       "    <tr>\n",
       "      <th>20</th>\n",
       "      <td>275900.562742</td>\n",
       "    </tr>\n",
       "    <tr>\n",
       "      <th>4</th>\n",
       "      <td>266201.442297</td>\n",
       "    </tr>\n",
       "    <tr>\n",
       "      <th>13</th>\n",
       "      <td>265506.995776</td>\n",
       "    </tr>\n",
       "  </tbody>\n",
       "</table>\n",
       "</div>"
      ],
      "text/plain": [
       "        Weekly_Sales\n",
       "Store               \n",
       "14     317569.949476\n",
       "10     302262.062504\n",
       "20     275900.562742\n",
       "4      266201.442297\n",
       "13     265506.995776"
      ]
     },
     "execution_count": 26,
     "metadata": {},
     "output_type": "execute_result"
    }
   ],
   "source": [
    "df_new = pd.DataFrame(df.groupby('Store')['Weekly_Sales'].std().sort_values(ascending = False))\n",
    "df_new.head()"
   ]
  },
  {
   "cell_type": "markdown",
   "id": "f33cafec",
   "metadata": {},
   "source": [
    "From the above output, it is inferred that Store - 14 has the maximum standard deviation"
   ]
  },
  {
   "cell_type": "code",
   "execution_count": 27,
   "id": "a4e157c9",
   "metadata": {},
   "outputs": [
    {
     "data": {
      "text/html": [
       "<div>\n",
       "<style scoped>\n",
       "    .dataframe tbody tr th:only-of-type {\n",
       "        vertical-align: middle;\n",
       "    }\n",
       "\n",
       "    .dataframe tbody tr th {\n",
       "        vertical-align: top;\n",
       "    }\n",
       "\n",
       "    .dataframe thead th {\n",
       "        text-align: right;\n",
       "    }\n",
       "</style>\n",
       "<table border=\"1\" class=\"dataframe\">\n",
       "  <thead>\n",
       "    <tr style=\"text-align: right;\">\n",
       "      <th></th>\n",
       "      <th>Weekly_Sales</th>\n",
       "    </tr>\n",
       "    <tr>\n",
       "      <th>Store</th>\n",
       "      <th></th>\n",
       "    </tr>\n",
       "  </thead>\n",
       "  <tbody>\n",
       "    <tr>\n",
       "      <th>20</th>\n",
       "      <td>2.107677e+06</td>\n",
       "    </tr>\n",
       "    <tr>\n",
       "      <th>4</th>\n",
       "      <td>2.094713e+06</td>\n",
       "    </tr>\n",
       "    <tr>\n",
       "      <th>14</th>\n",
       "      <td>2.020978e+06</td>\n",
       "    </tr>\n",
       "    <tr>\n",
       "      <th>13</th>\n",
       "      <td>2.003620e+06</td>\n",
       "    </tr>\n",
       "    <tr>\n",
       "      <th>2</th>\n",
       "      <td>1.925751e+06</td>\n",
       "    </tr>\n",
       "  </tbody>\n",
       "</table>\n",
       "</div>"
      ],
      "text/plain": [
       "       Weekly_Sales\n",
       "Store              \n",
       "20     2.107677e+06\n",
       "4      2.094713e+06\n",
       "14     2.020978e+06\n",
       "13     2.003620e+06\n",
       "2      1.925751e+06"
      ]
     },
     "execution_count": 27,
     "metadata": {},
     "output_type": "execute_result"
    }
   ],
   "source": [
    "#finding the store with maximum average sales\n",
    "\n",
    "df_avg_sales = pd.DataFrame(df.groupby('Store')['Weekly_Sales'].mean().sort_values(ascending=False))\n",
    "df_avg_sales.head()"
   ]
  },
  {
   "cell_type": "code",
   "execution_count": 28,
   "id": "8bb2ef75",
   "metadata": {},
   "outputs": [
    {
     "data": {
      "text/html": [
       "<div>\n",
       "<style scoped>\n",
       "    .dataframe tbody tr th:only-of-type {\n",
       "        vertical-align: middle;\n",
       "    }\n",
       "\n",
       "    .dataframe tbody tr th {\n",
       "        vertical-align: top;\n",
       "    }\n",
       "\n",
       "    .dataframe thead th {\n",
       "        text-align: right;\n",
       "    }\n",
       "</style>\n",
       "<table border=\"1\" class=\"dataframe\">\n",
       "  <thead>\n",
       "    <tr style=\"text-align: right;\">\n",
       "      <th></th>\n",
       "      <th>Weekly_Sales</th>\n",
       "    </tr>\n",
       "    <tr>\n",
       "      <th>Store</th>\n",
       "      <th></th>\n",
       "    </tr>\n",
       "  </thead>\n",
       "  <tbody>\n",
       "    <tr>\n",
       "      <th>4</th>\n",
       "      <td>2073951.38</td>\n",
       "    </tr>\n",
       "    <tr>\n",
       "      <th>20</th>\n",
       "      <td>2053165.41</td>\n",
       "    </tr>\n",
       "    <tr>\n",
       "      <th>14</th>\n",
       "      <td>2004330.30</td>\n",
       "    </tr>\n",
       "    <tr>\n",
       "      <th>13</th>\n",
       "      <td>1958823.56</td>\n",
       "    </tr>\n",
       "    <tr>\n",
       "      <th>2</th>\n",
       "      <td>1879107.31</td>\n",
       "    </tr>\n",
       "  </tbody>\n",
       "</table>\n",
       "</div>"
      ],
      "text/plain": [
       "       Weekly_Sales\n",
       "Store              \n",
       "4        2073951.38\n",
       "20       2053165.41\n",
       "14       2004330.30\n",
       "13       1958823.56\n",
       "2        1879107.31"
      ]
     },
     "execution_count": 28,
     "metadata": {},
     "output_type": "execute_result"
    }
   ],
   "source": [
    "#finding the store with maximum median sales\n",
    "\n",
    "df_avg_sales = pd.DataFrame(df.groupby('Store')['Weekly_Sales'].median().sort_values(ascending=False))\n",
    "df_avg_sales.head()"
   ]
  },
  {
   "cell_type": "code",
   "execution_count": 29,
   "id": "10f84a11",
   "metadata": {},
   "outputs": [
    {
     "name": "stdout",
     "output_type": "stream",
     "text": [
      "The store with maximum standard dev = 14\n"
     ]
    }
   ],
   "source": [
    "print(\"The store with maximum standard dev = \"+str(df_new.head(1).index[0]))"
   ]
  },
  {
   "cell_type": "code",
   "execution_count": 30,
   "id": "899bda3b",
   "metadata": {},
   "outputs": [
    {
     "name": "stderr",
     "output_type": "stream",
     "text": [
      "C:\\Users\\Shanthini\\anaconda3\\lib\\site-packages\\seaborn\\distributions.py:2619: FutureWarning: `distplot` is a deprecated function and will be removed in a future version. Please adapt your code to use either `displot` (a figure-level function with similar flexibility) or `histplot` (an axes-level function for histograms).\n",
      "  warnings.warn(msg, FutureWarning)\n"
     ]
    },
    {
     "data": {
      "text/plain": [
       "Text(0.5, 1.0, 'The Sales Distribution of the store 14')"
      ]
     },
     "execution_count": 30,
     "metadata": {},
     "output_type": "execute_result"
    },
    {
     "data": {
      "image/png": "[encoded data removed]",
      "text/plain": [
       "<Figure size 720x720 with 1 Axes>"
      ]
     },
     "metadata": {
      "needs_background": "light"
     },
     "output_type": "display_data"
    }
   ],
   "source": [
    "#lets plot the distribution of the store with maximum standard deviation \n",
    "\n",
    "plt.figure(figsize=(10,10))\n",
    "sns.distplot(df[df['Store']==df_new.head(1).index[0]]['Weekly_Sales'])\n",
    "plt.title(\"The Sales Distribution of the store \"+str(df_new.head(1).index[0]))"
   ]
  },
  {
   "cell_type": "code",
   "execution_count": 31,
   "id": "e1502d5f",
   "metadata": {},
   "outputs": [
    {
     "data": {
      "text/html": [
       "<div>\n",
       "<style scoped>\n",
       "    .dataframe tbody tr th:only-of-type {\n",
       "        vertical-align: middle;\n",
       "    }\n",
       "\n",
       "    .dataframe tbody tr th {\n",
       "        vertical-align: top;\n",
       "    }\n",
       "\n",
       "    .dataframe thead th {\n",
       "        text-align: right;\n",
       "    }\n",
       "</style>\n",
       "<table border=\"1\" class=\"dataframe\">\n",
       "  <thead>\n",
       "    <tr style=\"text-align: right;\">\n",
       "      <th></th>\n",
       "      <th>Store</th>\n",
       "      <th>Date</th>\n",
       "      <th>Weekly_Sales</th>\n",
       "      <th>Holiday_Flag</th>\n",
       "      <th>Temperature</th>\n",
       "      <th>Fuel_Price</th>\n",
       "      <th>CPI</th>\n",
       "      <th>Unemployment</th>\n",
       "      <th>Day</th>\n",
       "      <th>Month</th>\n",
       "      <th>Year</th>\n",
       "      <th>Co-efficient of Mean to Std</th>\n",
       "    </tr>\n",
       "  </thead>\n",
       "  <tbody>\n",
       "    <tr>\n",
       "      <th>0</th>\n",
       "      <td>1</td>\n",
       "      <td>2010-05-02</td>\n",
       "      <td>1643690.90</td>\n",
       "      <td>0</td>\n",
       "      <td>42.31</td>\n",
       "      <td>2.572</td>\n",
       "      <td>211.096358</td>\n",
       "      <td>8.106</td>\n",
       "      <td>2</td>\n",
       "      <td>5</td>\n",
       "      <td>2010</td>\n",
       "      <td>NaN</td>\n",
       "    </tr>\n",
       "    <tr>\n",
       "      <th>1</th>\n",
       "      <td>1</td>\n",
       "      <td>2010-12-02</td>\n",
       "      <td>1641957.44</td>\n",
       "      <td>1</td>\n",
       "      <td>38.51</td>\n",
       "      <td>2.548</td>\n",
       "      <td>211.242170</td>\n",
       "      <td>8.106</td>\n",
       "      <td>2</td>\n",
       "      <td>12</td>\n",
       "      <td>2010</td>\n",
       "      <td>0.100292</td>\n",
       "    </tr>\n",
       "    <tr>\n",
       "      <th>2</th>\n",
       "      <td>1</td>\n",
       "      <td>2010-02-19</td>\n",
       "      <td>1611968.17</td>\n",
       "      <td>0</td>\n",
       "      <td>39.93</td>\n",
       "      <td>2.514</td>\n",
       "      <td>211.289143</td>\n",
       "      <td>8.106</td>\n",
       "      <td>19</td>\n",
       "      <td>2</td>\n",
       "      <td>2010</td>\n",
       "      <td>0.123424</td>\n",
       "    </tr>\n",
       "    <tr>\n",
       "      <th>3</th>\n",
       "      <td>1</td>\n",
       "      <td>2010-02-26</td>\n",
       "      <td>1409727.59</td>\n",
       "      <td>0</td>\n",
       "      <td>46.63</td>\n",
       "      <td>2.561</td>\n",
       "      <td>211.319643</td>\n",
       "      <td>8.106</td>\n",
       "      <td>26</td>\n",
       "      <td>2</td>\n",
       "      <td>2010</td>\n",
       "      <td>0.115021</td>\n",
       "    </tr>\n",
       "    <tr>\n",
       "      <th>4</th>\n",
       "      <td>1</td>\n",
       "      <td>2010-05-03</td>\n",
       "      <td>1554806.68</td>\n",
       "      <td>0</td>\n",
       "      <td>46.50</td>\n",
       "      <td>2.625</td>\n",
       "      <td>211.350143</td>\n",
       "      <td>8.106</td>\n",
       "      <td>3</td>\n",
       "      <td>5</td>\n",
       "      <td>2010</td>\n",
       "      <td>0.127083</td>\n",
       "    </tr>\n",
       "  </tbody>\n",
       "</table>\n",
       "</div>"
      ],
      "text/plain": [
       "   Store       Date  Weekly_Sales  Holiday_Flag  Temperature  Fuel_Price  \\\n",
       "0      1 2010-05-02    1643690.90             0        42.31       2.572   \n",
       "1      1 2010-12-02    1641957.44             1        38.51       2.548   \n",
       "2      1 2010-02-19    1611968.17             0        39.93       2.514   \n",
       "3      1 2010-02-26    1409727.59             0        46.63       2.561   \n",
       "4      1 2010-05-03    1554806.68             0        46.50       2.625   \n",
       "\n",
       "          CPI  Unemployment  Day  Month  Year  Co-efficient of Mean to Std  \n",
       "0  211.096358         8.106    2      5  2010                          NaN  \n",
       "1  211.242170         8.106    2     12  2010                     0.100292  \n",
       "2  211.289143         8.106   19      2  2010                     0.123424  \n",
       "3  211.319643         8.106   26      2  2010                     0.115021  \n",
       "4  211.350143         8.106    3      5  2010                     0.127083  "
      ]
     },
     "execution_count": 31,
     "metadata": {},
     "output_type": "execute_result"
    }
   ],
   "source": [
    "#finding the coefficient of mean to std \n",
    "\n",
    "df['Co-efficient of Mean to Std'] = df.groupby('Store')['Weekly_Sales'].std() / df.groupby('Store')['Weekly_Sales'].mean()\n",
    "df.head()"
   ]
  },
  {
   "cell_type": "code",
   "execution_count": 32,
   "id": "eccc9375",
   "metadata": {},
   "outputs": [
    {
     "data": {
      "text/html": [
       "<div>\n",
       "<style scoped>\n",
       "    .dataframe tbody tr th:only-of-type {\n",
       "        vertical-align: middle;\n",
       "    }\n",
       "\n",
       "    .dataframe tbody tr th {\n",
       "        vertical-align: top;\n",
       "    }\n",
       "\n",
       "    .dataframe thead th {\n",
       "        text-align: right;\n",
       "    }\n",
       "</style>\n",
       "<table border=\"1\" class=\"dataframe\">\n",
       "  <thead>\n",
       "    <tr style=\"text-align: right;\">\n",
       "      <th></th>\n",
       "      <th>Store</th>\n",
       "      <th>Date</th>\n",
       "      <th>Weekly_Sales</th>\n",
       "      <th>Holiday_Flag</th>\n",
       "      <th>Temperature</th>\n",
       "      <th>Fuel_Price</th>\n",
       "      <th>CPI</th>\n",
       "      <th>Unemployment</th>\n",
       "      <th>Day</th>\n",
       "      <th>Month</th>\n",
       "      <th>Year</th>\n",
       "      <th>Co-efficient of Mean to Std</th>\n",
       "    </tr>\n",
       "  </thead>\n",
       "  <tbody>\n",
       "    <tr>\n",
       "      <th>0</th>\n",
       "      <td>1</td>\n",
       "      <td>2010-05-02</td>\n",
       "      <td>1643690.90</td>\n",
       "      <td>0</td>\n",
       "      <td>42.31</td>\n",
       "      <td>2.572</td>\n",
       "      <td>211.096358</td>\n",
       "      <td>8.106</td>\n",
       "      <td>2</td>\n",
       "      <td>5</td>\n",
       "      <td>2010</td>\n",
       "      <td>NaN</td>\n",
       "    </tr>\n",
       "    <tr>\n",
       "      <th>1</th>\n",
       "      <td>1</td>\n",
       "      <td>2010-12-02</td>\n",
       "      <td>1641957.44</td>\n",
       "      <td>1</td>\n",
       "      <td>38.51</td>\n",
       "      <td>2.548</td>\n",
       "      <td>211.242170</td>\n",
       "      <td>8.106</td>\n",
       "      <td>2</td>\n",
       "      <td>12</td>\n",
       "      <td>2010</td>\n",
       "      <td>10.029212</td>\n",
       "    </tr>\n",
       "    <tr>\n",
       "      <th>2</th>\n",
       "      <td>1</td>\n",
       "      <td>2010-02-19</td>\n",
       "      <td>1611968.17</td>\n",
       "      <td>0</td>\n",
       "      <td>39.93</td>\n",
       "      <td>2.514</td>\n",
       "      <td>211.289143</td>\n",
       "      <td>8.106</td>\n",
       "      <td>19</td>\n",
       "      <td>2</td>\n",
       "      <td>2010</td>\n",
       "      <td>12.342388</td>\n",
       "    </tr>\n",
       "    <tr>\n",
       "      <th>3</th>\n",
       "      <td>1</td>\n",
       "      <td>2010-02-26</td>\n",
       "      <td>1409727.59</td>\n",
       "      <td>0</td>\n",
       "      <td>46.63</td>\n",
       "      <td>2.561</td>\n",
       "      <td>211.319643</td>\n",
       "      <td>8.106</td>\n",
       "      <td>26</td>\n",
       "      <td>2</td>\n",
       "      <td>2010</td>\n",
       "      <td>11.502141</td>\n",
       "    </tr>\n",
       "    <tr>\n",
       "      <th>4</th>\n",
       "      <td>1</td>\n",
       "      <td>2010-05-03</td>\n",
       "      <td>1554806.68</td>\n",
       "      <td>0</td>\n",
       "      <td>46.50</td>\n",
       "      <td>2.625</td>\n",
       "      <td>211.350143</td>\n",
       "      <td>8.106</td>\n",
       "      <td>3</td>\n",
       "      <td>5</td>\n",
       "      <td>2010</td>\n",
       "      <td>12.708254</td>\n",
       "    </tr>\n",
       "  </tbody>\n",
       "</table>\n",
       "</div>"
      ],
      "text/plain": [
       "   Store       Date  Weekly_Sales  Holiday_Flag  Temperature  Fuel_Price  \\\n",
       "0      1 2010-05-02    1643690.90             0        42.31       2.572   \n",
       "1      1 2010-12-02    1641957.44             1        38.51       2.548   \n",
       "2      1 2010-02-19    1611968.17             0        39.93       2.514   \n",
       "3      1 2010-02-26    1409727.59             0        46.63       2.561   \n",
       "4      1 2010-05-03    1554806.68             0        46.50       2.625   \n",
       "\n",
       "          CPI  Unemployment  Day  Month  Year  Co-efficient of Mean to Std  \n",
       "0  211.096358         8.106    2      5  2010                          NaN  \n",
       "1  211.242170         8.106    2     12  2010                    10.029212  \n",
       "2  211.289143         8.106   19      2  2010                    12.342388  \n",
       "3  211.319643         8.106   26      2  2010                    11.502141  \n",
       "4  211.350143         8.106    3      5  2010                    12.708254  "
      ]
     },
     "execution_count": 32,
     "metadata": {},
     "output_type": "execute_result"
    }
   ],
   "source": [
    "#finding the coefficient of mean to std as percentage\n",
    "\n",
    "df['Co-efficient of Mean to Std'] = (df.groupby('Store')['Weekly_Sales'].std() / df.groupby('Store')['Weekly_Sales'].mean())*100\n",
    "df.head()"
   ]
  },
  {
   "cell_type": "markdown",
   "id": "8b54bae2",
   "metadata": {},
   "source": [
    "If the value equals 1 or 100%, the std dev equals the mean. Values less than 1 indicate that the std dev is smaller than the mean (typical), while values greater than 1 occurs when the std dev is greater than the mean."
   ]
  },
  {
   "cell_type": "code",
   "execution_count": 33,
   "id": "bc7dd473",
   "metadata": {},
   "outputs": [
    {
     "data": {
      "text/plain": [
       "array(['2010-05-02T00:00:00.000000000', '2010-12-02T00:00:00.000000000',\n",
       "       '2010-02-19T00:00:00.000000000', '2010-02-26T00:00:00.000000000',\n",
       "       '2010-05-03T00:00:00.000000000', '2010-12-03T00:00:00.000000000',\n",
       "       '2010-03-19T00:00:00.000000000', '2010-03-26T00:00:00.000000000',\n",
       "       '2010-02-04T00:00:00.000000000', '2010-09-04T00:00:00.000000000',\n",
       "       '2010-04-16T00:00:00.000000000', '2010-04-23T00:00:00.000000000',\n",
       "       '2010-04-30T00:00:00.000000000', '2010-07-05T00:00:00.000000000',\n",
       "       '2010-05-14T00:00:00.000000000', '2010-05-21T00:00:00.000000000',\n",
       "       '2010-05-28T00:00:00.000000000', '2010-04-06T00:00:00.000000000',\n",
       "       '2010-11-06T00:00:00.000000000', '2010-06-18T00:00:00.000000000',\n",
       "       '2010-06-25T00:00:00.000000000', '2010-02-07T00:00:00.000000000',\n",
       "       '2010-09-07T00:00:00.000000000', '2010-07-16T00:00:00.000000000',\n",
       "       '2010-07-23T00:00:00.000000000', '2010-07-30T00:00:00.000000000',\n",
       "       '2010-06-08T00:00:00.000000000', '2010-08-13T00:00:00.000000000',\n",
       "       '2010-08-20T00:00:00.000000000', '2010-08-27T00:00:00.000000000',\n",
       "       '2010-03-09T00:00:00.000000000', '2010-10-09T00:00:00.000000000',\n",
       "       '2010-09-17T00:00:00.000000000', '2010-09-24T00:00:00.000000000',\n",
       "       '2010-01-10T00:00:00.000000000', '2010-08-10T00:00:00.000000000',\n",
       "       '2010-10-15T00:00:00.000000000', '2010-10-22T00:00:00.000000000',\n",
       "       '2010-10-29T00:00:00.000000000', '2010-05-11T00:00:00.000000000',\n",
       "       '2010-12-11T00:00:00.000000000', '2010-11-19T00:00:00.000000000',\n",
       "       '2010-11-26T00:00:00.000000000', '2010-03-12T00:00:00.000000000',\n",
       "       '2010-10-12T00:00:00.000000000', '2010-12-17T00:00:00.000000000',\n",
       "       '2010-12-24T00:00:00.000000000', '2010-12-31T00:00:00.000000000',\n",
       "       '2011-07-01T00:00:00.000000000', '2011-01-14T00:00:00.000000000',\n",
       "       '2011-01-21T00:00:00.000000000', '2011-01-28T00:00:00.000000000',\n",
       "       '2011-04-02T00:00:00.000000000', '2011-11-02T00:00:00.000000000',\n",
       "       '2011-02-18T00:00:00.000000000', '2011-02-25T00:00:00.000000000',\n",
       "       '2011-04-03T00:00:00.000000000', '2011-11-03T00:00:00.000000000',\n",
       "       '2011-03-18T00:00:00.000000000', '2011-03-25T00:00:00.000000000',\n",
       "       '2011-01-04T00:00:00.000000000', '2011-08-04T00:00:00.000000000',\n",
       "       '2011-04-15T00:00:00.000000000', '2011-04-22T00:00:00.000000000',\n",
       "       '2011-04-29T00:00:00.000000000', '2011-06-05T00:00:00.000000000',\n",
       "       '2011-05-13T00:00:00.000000000', '2011-05-20T00:00:00.000000000',\n",
       "       '2011-05-27T00:00:00.000000000', '2011-03-06T00:00:00.000000000',\n",
       "       '2011-10-06T00:00:00.000000000', '2011-06-17T00:00:00.000000000',\n",
       "       '2011-06-24T00:00:00.000000000', '2011-01-07T00:00:00.000000000',\n",
       "       '2011-08-07T00:00:00.000000000', '2011-07-15T00:00:00.000000000',\n",
       "       '2011-07-22T00:00:00.000000000', '2011-07-29T00:00:00.000000000',\n",
       "       '2011-05-08T00:00:00.000000000', '2011-12-08T00:00:00.000000000',\n",
       "       '2011-08-19T00:00:00.000000000', '2011-08-26T00:00:00.000000000',\n",
       "       '2011-02-09T00:00:00.000000000', '2011-09-09T00:00:00.000000000',\n",
       "       '2011-09-16T00:00:00.000000000', '2011-09-23T00:00:00.000000000',\n",
       "       '2011-09-30T00:00:00.000000000', '2011-07-10T00:00:00.000000000',\n",
       "       '2011-10-14T00:00:00.000000000', '2011-10-21T00:00:00.000000000',\n",
       "       '2011-10-28T00:00:00.000000000', '2011-04-11T00:00:00.000000000',\n",
       "       '2011-11-11T00:00:00.000000000', '2011-11-18T00:00:00.000000000',\n",
       "       '2011-11-25T00:00:00.000000000', '2011-02-12T00:00:00.000000000',\n",
       "       '2011-09-12T00:00:00.000000000', '2011-12-16T00:00:00.000000000',\n",
       "       '2011-12-23T00:00:00.000000000', '2011-12-30T00:00:00.000000000',\n",
       "       '2012-06-01T00:00:00.000000000', '2012-01-13T00:00:00.000000000',\n",
       "       '2012-01-20T00:00:00.000000000', '2012-01-27T00:00:00.000000000',\n",
       "       '2012-03-02T00:00:00.000000000', '2012-10-02T00:00:00.000000000',\n",
       "       '2012-02-17T00:00:00.000000000', '2012-02-24T00:00:00.000000000',\n",
       "       '2012-02-03T00:00:00.000000000', '2012-09-03T00:00:00.000000000',\n",
       "       '2012-03-16T00:00:00.000000000', '2012-03-23T00:00:00.000000000',\n",
       "       '2012-03-30T00:00:00.000000000', '2012-06-04T00:00:00.000000000',\n",
       "       '2012-04-13T00:00:00.000000000', '2012-04-20T00:00:00.000000000',\n",
       "       '2012-04-27T00:00:00.000000000', '2012-04-05T00:00:00.000000000',\n",
       "       '2012-11-05T00:00:00.000000000', '2012-05-18T00:00:00.000000000',\n",
       "       '2012-05-25T00:00:00.000000000', '2012-01-06T00:00:00.000000000',\n",
       "       '2012-08-06T00:00:00.000000000', '2012-06-15T00:00:00.000000000',\n",
       "       '2012-06-22T00:00:00.000000000', '2012-06-29T00:00:00.000000000',\n",
       "       '2012-06-07T00:00:00.000000000', '2012-07-13T00:00:00.000000000',\n",
       "       '2012-07-20T00:00:00.000000000', '2012-07-27T00:00:00.000000000',\n",
       "       '2012-03-08T00:00:00.000000000', '2012-10-08T00:00:00.000000000',\n",
       "       '2012-08-17T00:00:00.000000000', '2012-08-24T00:00:00.000000000',\n",
       "       '2012-08-31T00:00:00.000000000', '2012-07-09T00:00:00.000000000',\n",
       "       '2012-09-14T00:00:00.000000000', '2012-09-21T00:00:00.000000000',\n",
       "       '2012-09-28T00:00:00.000000000', '2012-05-10T00:00:00.000000000',\n",
       "       '2012-12-10T00:00:00.000000000', '2012-10-19T00:00:00.000000000',\n",
       "       '2012-10-26T00:00:00.000000000'], dtype='datetime64[ns]')"
      ]
     },
     "execution_count": 33,
     "metadata": {},
     "output_type": "execute_result"
    }
   ],
   "source": [
    "date = np.array(df['Date'].unique())\n",
    "date "
   ]
  },
  {
   "cell_type": "code",
   "execution_count": 34,
   "id": "62bb9bf9",
   "metadata": {},
   "outputs": [
    {
     "name": "stdout",
     "output_type": "stream",
     "text": [
      "Sales of each store in the first quarter : \n",
      "Store\n",
      "1     18951097.69\n",
      "2     22543946.63\n",
      "3      4957435.81\n",
      "4     25659307.85\n",
      "5      3912829.61\n",
      "6     18191088.24\n",
      "7      7216352.11\n",
      "8     10834016.00\n",
      "9      6623242.25\n",
      "10    22376375.54\n",
      "11    16202430.64\n",
      "12    12267395.71\n",
      "13    23340887.21\n",
      "14    22225623.53\n",
      "15     6586066.31\n",
      "16     5982535.66\n",
      "17    10338447.72\n",
      "18    12136694.32\n",
      "19    15905505.82\n",
      "20    24642304.47\n",
      "21     8531614.31\n",
      "22    11425426.54\n",
      "23    15140693.71\n",
      "24    15057398.56\n",
      "25     7752460.37\n",
      "26    11096710.89\n",
      "27    19105225.09\n",
      "28    15617470.91\n",
      "29     5922233.10\n",
      "30     5197470.42\n",
      "31    16753747.76\n",
      "32    13583819.16\n",
      "33     3070268.02\n",
      "34    11533952.51\n",
      "35     9123431.89\n",
      "36     3792673.99\n",
      "37     6337965.28\n",
      "38     5149603.50\n",
      "39    17597067.88\n",
      "40    10877618.98\n",
      "41    14805255.21\n",
      "42     6947586.27\n",
      "43     7581906.30\n",
      "44     3821348.55\n",
      "45     9073434.67\n",
      "Name: Weekly_Sales, dtype: float64\n",
      "\n",
      "Store with maximum sales in the quarter 1 is : 25659307.85\n",
      "\n",
      "Store index is : 4\n"
     ]
    }
   ],
   "source": [
    "#Finding out which store has good quarterly growth in each quarter in 2012\n",
    "\n",
    "#Quarter 1 from Jan to March\n",
    "\n",
    "q1 = df[(df['Date']>'2012-01-01') & (df['Date']<'2012-03-31')].groupby('Store')['Weekly_Sales'].sum()\n",
    "print(\"Sales of each store in the first quarter : \")\n",
    "print(q1)\n",
    "print()\n",
    "print(\"Store with maximum sales in the quarter 1 is : \" + str(q1.max()))\n",
    "print()\n",
    "print(\"Store index is : \" + str(q1.idxmax()))"
   ]
  },
  {
   "cell_type": "code",
   "execution_count": 35,
   "id": "28e375e5",
   "metadata": {},
   "outputs": [
    {
     "name": "stdout",
     "output_type": "stream",
     "text": [
      "Sales of Each store in the quarter 2 is : \n",
      "Store\n",
      "1     21036965.58\n",
      "2     25085123.61\n",
      "3      5562668.16\n",
      "4     28384185.16\n",
      "5      4427262.21\n",
      "6     20728970.16\n",
      "7      7613593.92\n",
      "8     11934275.61\n",
      "9      7431320.13\n",
      "10    23598433.93\n",
      "11    17879095.77\n",
      "12    13193365.04\n",
      "13    26803225.55\n",
      "14    24427769.06\n",
      "15     7867952.23\n",
      "16     6626133.44\n",
      "17    12918892.02\n",
      "18    13834706.08\n",
      "19    18315278.56\n",
      "20    27550180.62\n",
      "21     9226279.62\n",
      "22    13329065.39\n",
      "23    18283424.90\n",
      "24    17768191.98\n",
      "25     9247467.19\n",
      "26    13218289.66\n",
      "27    22593640.73\n",
      "28    16985999.95\n",
      "29     7034493.19\n",
      "30     5786335.45\n",
      "31    18249155.35\n",
      "32    15415236.21\n",
      "33     3512138.05\n",
      "34    12858027.98\n",
      "35    10753570.97\n",
      "36     4090378.90\n",
      "37     6859777.96\n",
      "38     5732362.70\n",
      "39    20191585.63\n",
      "40    12849747.45\n",
      "41    17560035.88\n",
      "42     7608247.31\n",
      "43     8239792.67\n",
      "44     4322555.33\n",
      "45    10278900.05\n",
      "Name: Weekly_Sales, dtype: float64\n",
      "\n",
      "Max sales of the store in q2 is : 28384185.16\n",
      "\n",
      "Store index is : 4\n"
     ]
    }
   ],
   "source": [
    "#Quarter 2 from April to June \n",
    "\n",
    "q2 = df[(df['Date']>'2012-04-01') & (df['Date']<'2012-06-30')].groupby('Store')['Weekly_Sales'].sum()\n",
    "print(\"Sales of Each store in the quarter 2 is : \")\n",
    "print(q2)\n",
    "print()\n",
    "print(\"Max sales of the store in q2 is : \"+ str(q2.max()))\n",
    "print()\n",
    "print(\"Store index is : \"+ str(q2.idxmax()))"
   ]
  },
  {
   "cell_type": "code",
   "execution_count": 36,
   "id": "7be2447e",
   "metadata": {},
   "outputs": [
    {
     "name": "stdout",
     "output_type": "stream",
     "text": [
      "Sales of Each store in the quarter 3 is : \n",
      "Store\n",
      "1     18633209.98\n",
      "2     22396867.61\n",
      "3      4966495.93\n",
      "4     25652119.35\n",
      "5      3880621.88\n",
      "6     18341221.11\n",
      "7      7322393.92\n",
      "8     10873860.34\n",
      "9      6528239.56\n",
      "10    21169356.45\n",
      "11    16094363.07\n",
      "12    11777508.50\n",
      "13    24319994.35\n",
      "14    20140430.40\n",
      "15     6909374.37\n",
      "16     6441311.11\n",
      "17    11533998.38\n",
      "18    12507521.72\n",
      "19    16644341.31\n",
      "20    24665938.11\n",
      "21     8403507.99\n",
      "22    11818544.33\n",
      "23    17103654.36\n",
      "24    16125999.86\n",
      "25     8309440.44\n",
      "26    12417575.35\n",
      "27    20191238.11\n",
      "28    15055659.67\n",
      "29     6127862.07\n",
      "30     5181974.44\n",
      "31    16454328.46\n",
      "32    14142164.84\n",
      "33     3177072.43\n",
      "34    11476258.98\n",
      "35    10252122.68\n",
      "36     3578123.58\n",
      "37     6250524.08\n",
      "38     5129297.64\n",
      "39    18899955.17\n",
      "40    11647661.37\n",
      "41    16373588.44\n",
      "42     6830839.86\n",
      "43     7376726.03\n",
      "44     4020486.01\n",
      "45     8851242.32\n",
      "Name: Weekly_Sales, dtype: float64\n",
      "\n",
      "Max sales of the store in q3 is : 25652119.35\n",
      "\n",
      "Store index is : 4\n"
     ]
    }
   ],
   "source": [
    "#Quarter 3 from July to September \n",
    "\n",
    "q3 = df[(df['Date']>'2012-07-01') & (df['Date']<'2012-09-30')].groupby('Store')['Weekly_Sales'].sum()\n",
    "print(\"Sales of Each store in the quarter 3 is : \")\n",
    "print(q3)\n",
    "print()\n",
    "print(\"Max sales of the store in q3 is : \"+ str(q3.max()))\n",
    "print()\n",
    "print(\"Store index is : \"+ str(q3.idxmax()))"
   ]
  },
  {
   "cell_type": "code",
   "execution_count": 37,
   "id": "909583cf",
   "metadata": {},
   "outputs": [
    {
     "name": "stdout",
     "output_type": "stream",
     "text": [
      "Sales of Each store in the quarter 4 is : \n",
      "Store\n",
      "1      9580784.77\n",
      "2     11470757.52\n",
      "3      2537839.60\n",
      "4     13075576.88\n",
      "5      1948124.43\n",
      "6      9053767.49\n",
      "7      3215216.52\n",
      "8      5591768.18\n",
      "9      3391227.64\n",
      "10    11084451.02\n",
      "11     8008176.20\n",
      "12     6096576.47\n",
      "13    12243347.91\n",
      "14    10647575.27\n",
      "15     3464137.80\n",
      "16     3052445.11\n",
      "17     5494040.51\n",
      "18     6439654.68\n",
      "19     8347307.59\n",
      "20    12969286.18\n",
      "21     4090484.79\n",
      "22     6082619.97\n",
      "23     8240205.78\n",
      "24     8234805.77\n",
      "25     4181137.71\n",
      "26     6243868.39\n",
      "27    10029952.19\n",
      "28     7669776.54\n",
      "29     3159793.26\n",
      "30     2629869.77\n",
      "31     8427175.65\n",
      "32     7139895.79\n",
      "33     1676072.53\n",
      "34     5870924.68\n",
      "35     5108596.98\n",
      "36     1825294.06\n",
      "37     3164507.37\n",
      "38     2619809.61\n",
      "39     9197054.17\n",
      "40     5797379.54\n",
      "41     8148960.40\n",
      "42     3563686.41\n",
      "43     3776808.97\n",
      "44     2022983.83\n",
      "45     4520053.13\n",
      "Name: Weekly_Sales, dtype: float64\n",
      "\n",
      "Max sales of the store in q4 is : 13075576.879999999\n",
      "\n",
      "Store index is : 4\n"
     ]
    }
   ],
   "source": [
    "#Quarter 4 from October to December \n",
    "\n",
    "q4 = df[(df['Date']>'2012-10-01') & (df['Date']<'2012-12-31')].groupby('Store')['Weekly_Sales'].sum()\n",
    "print(\"Sales of Each store in the quarter 4 is : \")\n",
    "print(q4)\n",
    "print()\n",
    "print(\"Max sales of the store in q4 is : \"+ str(q4.max()))\n",
    "print()\n",
    "print(\"Store index is : \"+ str(q4.idxmax()))"
   ]
  },
  {
   "cell_type": "markdown",
   "id": "e0acbbef",
   "metadata": {},
   "source": [
    "List of holidays : \n",
    "\n",
    "Super Bowl: 07-Feb-10, 06-Feb-11, 05-Feb-12\n",
    "\n",
    "Labour Day: 06-Sep-10, 05-Sep-11, 03-Sep-12\n",
    "\n",
    "Thanksgiving: 25-Nov-10, 24-Nov-11, 22-Nov-12\n",
    "\n",
    "Christmas: 25-Dec-10, 25-Dec-11, 25-Dec-12"
   ]
  },
  {
   "cell_type": "code",
   "execution_count": 38,
   "id": "82d49166",
   "metadata": {},
   "outputs": [],
   "source": [
    "#plot function to plot the sales\n",
    "import datetime\n",
    "\n",
    "def plot_line(df, holiday_dates,holiday_label):\n",
    "    fig,ax = plt.subplots(figsize=(15,5))\n",
    "    ax.plot(df['Date'],df['Weekly_Sales'],label=holiday_label)\n",
    "    \n",
    "    for day in holiday_dates:\n",
    "        day = datetime.datetime.strptime(day,'%Y-%m-%d')\n",
    "        plt.axvline(x=day,linestyle='--',c='r')\n",
    "    \n",
    "    plt.title(holiday_label)\n",
    "    x_dates = df['Date'].dt.strftime('%Y-%m-%d').sort_values().unique()\n",
    "    plt.plot()\n",
    "    plt.show()"
   ]
  },
  {
   "cell_type": "markdown",
   "id": "e76aeb22",
   "metadata": {},
   "source": [
    "                                  \"fig,ax = plt.subplots(figsize=(15,5))\"\n",
    "fig - represents the entire figure or the canvas \n",
    "ax - represents the axes of the figure \n",
    "plt.subplots() - function provided by Matplotlib that creates a new figure and a set of subplots or axes.\n",
    "(15, 5) - indicates a width of 15 inches and a height of 5 inches for the figure."
   ]
  },
  {
   "cell_type": "markdown",
   "id": "cdeb2fc5",
   "metadata": {},
   "source": [
    "                                  \"ax.plot(df['Date'],df['Weekly_Sales'],label=holiday_label)\"\n",
    "ax: This is the axes object on which the plot will be drawn. It is typically obtained from a subplot or axes method call.\n",
    "plot: This is the function in Matplotlib's pyplot module used to create a line plot.\n",
    "df['Date']: This is the x-axis data for the plot. It represents the dates or timestamps along the x-axis. It is typically a column of a pandas DataFrame.\n",
    "df['Weekly_Sales']: This is the y-axis data for the plot. It represents the weekly sales values corresponding to each date or timestamp.\n",
    "label=holiday_label: This is an optional parameter that assigns a label to the plotted line. holiday_label should be a string that represents the label for the line in the plot. The label is used for creating a legend when multiple lines are plotted on the same axes."
   ]
  },
  {
   "cell_type": "markdown",
   "id": "78133982",
   "metadata": {},
   "source": [
    "                                    \"day = datetime.datetime.strptime(day,'%Y-%m-%d')\"\n",
    "To convert a date string in the format YYYY-MM-DD into a datetime object in Python. The strptime method will parse the day string according to the provided format ('%Y-%m-%d') and create a datetime object representing that date."
   ]
  },
  {
   "cell_type": "markdown",
   "id": "6ef05695",
   "metadata": {},
   "source": [
    "                                      \"plt.axvline(x=day,linestyle='--',c='r')\"\n",
    "This adds a vertical line across the axes\n",
    "plt.axvline(): This is a function in Matplotlib's pyplot module used to draw a vertical line on a plot.\n",
    "x=day: This is the x-axis position where the vertical line will be drawn. The day variable should represent a numerical value along the x-axis.\n",
    "linestyle='--': This is an optional parameter that specifies the linestyle of the vertical line. In this case, '--' represents a dashed line.\n",
    "c='r': This is an optional parameter that specifies the color of the vertical line. In this case, 'r' represents the color red.\n",
    "\n",
    "                            \"x_dates = df['Date'].dt.strftime('%Y-%m-%d').sort_values().unique()\"\n",
    "\n",
    "dt.strftime('%Y-%m-%d'): This applies the strftime method to format each datetime value in the 'Date' column as a string in the format 'YYYY-MM-DD'. The %Y represents the four-digit year, %m represents the two-digit month, and %d represents the two-digit day."
   ]
  },
  {
   "cell_type": "code",
   "execution_count": 39,
   "id": "3f02cfce",
   "metadata": {},
   "outputs": [
    {
     "data": {
      "image/png": "[encoded data removed]",
      "text/plain": [
       "<Figure size 1080x360 with 1 Axes>"
      ]
     },
     "metadata": {
      "needs_background": "light"
     },
     "output_type": "display_data"
    }
   ],
   "source": [
    "#impact of holidays on Sales \n",
    "\n",
    "total_sales = df.groupby('Date')['Weekly_Sales'].sum().reset_index()\n",
    "super_bowl = ['2010-02-07','2011-02-06','2012-02-05']\n",
    "plot_line(total_sales,super_bowl,'Super Bowl')"
   ]
  },
  {
   "cell_type": "code",
   "execution_count": 40,
   "id": "4dfee345",
   "metadata": {},
   "outputs": [
    {
     "data": {
      "image/png": "[encoded data removed]",
      "text/plain": [
       "<Figure size 1080x360 with 1 Axes>"
      ]
     },
     "metadata": {
      "needs_background": "light"
     },
     "output_type": "display_data"
    }
   ],
   "source": [
    "labour_day = ['2010-09-06','2011-09-05','2012-09-03']\n",
    "plot_line(total_sales,labour_day,\"Labour Day\")"
   ]
  },
  {
   "cell_type": "code",
   "execution_count": 41,
   "id": "4e3914bd",
   "metadata": {},
   "outputs": [
    {
     "data": {
      "image/png": "[encoded data removed]",
      "text/plain": [
       "<Figure size 1080x360 with 1 Axes>"
      ]
     },
     "metadata": {
      "needs_background": "light"
     },
     "output_type": "display_data"
    }
   ],
   "source": [
    "thanks_giving = ['2010-11-25','2011-11-24','2012-11-22']\n",
    "plot_line(total_sales,thanks_giving,\"Thanks Giving\")"
   ]
  },
  {
   "cell_type": "code",
   "execution_count": 42,
   "id": "a3572c1c",
   "metadata": {},
   "outputs": [
    {
     "data": {
      "image/png": "[encoded data removed]",
      "text/plain": [
       "<Figure size 1080x360 with 1 Axes>"
      ]
     },
     "metadata": {
      "needs_background": "light"
     },
     "output_type": "display_data"
    }
   ],
   "source": [
    "christmas = ['2010-12-25','2011-12-25','2012-12-25']\n",
    "plot_line(total_sales,christmas,\"Christmas\")"
   ]
  },
  {
   "cell_type": "markdown",
   "id": "3d7b77a5",
   "metadata": {},
   "source": [
    "Super bowl and labour day holiday seems that doesn't have any impact on the sales. On the other hand, the sales increased during thanks giving holidays and the sales decreased during the christmas holidays. "
   ]
  },
  {
   "cell_type": "code",
   "execution_count": 43,
   "id": "0f7145d9",
   "metadata": {},
   "outputs": [
    {
     "data": {
      "text/plain": [
       "Index(['Store', 'Date', 'Weekly_Sales', 'Holiday_Flag', 'Temperature',\n",
       "       'Fuel_Price', 'CPI', 'Unemployment', 'Day', 'Month', 'Year',\n",
       "       'Co-efficient of Mean to Std'],\n",
       "      dtype='object')"
      ]
     },
     "execution_count": 43,
     "metadata": {},
     "output_type": "execute_result"
    }
   ],
   "source": [
    "df.columns"
   ]
  },
  {
   "cell_type": "code",
   "execution_count": 44,
   "id": "f11180fe",
   "metadata": {},
   "outputs": [
    {
     "data": {
      "text/html": [
       "<div>\n",
       "<style scoped>\n",
       "    .dataframe tbody tr th:only-of-type {\n",
       "        vertical-align: middle;\n",
       "    }\n",
       "\n",
       "    .dataframe tbody tr th {\n",
       "        vertical-align: top;\n",
       "    }\n",
       "\n",
       "    .dataframe thead th {\n",
       "        text-align: right;\n",
       "    }\n",
       "</style>\n",
       "<table border=\"1\" class=\"dataframe\">\n",
       "  <thead>\n",
       "    <tr style=\"text-align: right;\">\n",
       "      <th></th>\n",
       "      <th>Store</th>\n",
       "      <th>Date</th>\n",
       "      <th>Weekly_Sales</th>\n",
       "      <th>Holiday_Flag</th>\n",
       "      <th>Temperature</th>\n",
       "      <th>Fuel_Price</th>\n",
       "      <th>CPI</th>\n",
       "      <th>Unemployment</th>\n",
       "      <th>Day</th>\n",
       "      <th>Month</th>\n",
       "      <th>Year</th>\n",
       "      <th>Co-efficient of Mean to Std</th>\n",
       "      <th>Month_Year</th>\n",
       "    </tr>\n",
       "  </thead>\n",
       "  <tbody>\n",
       "    <tr>\n",
       "      <th>0</th>\n",
       "      <td>1</td>\n",
       "      <td>2010-05-02</td>\n",
       "      <td>1643690.90</td>\n",
       "      <td>0</td>\n",
       "      <td>42.31</td>\n",
       "      <td>2.572</td>\n",
       "      <td>211.096358</td>\n",
       "      <td>8.106</td>\n",
       "      <td>2</td>\n",
       "      <td>5</td>\n",
       "      <td>2010</td>\n",
       "      <td>NaN</td>\n",
       "      <td>2010-05</td>\n",
       "    </tr>\n",
       "    <tr>\n",
       "      <th>1</th>\n",
       "      <td>1</td>\n",
       "      <td>2010-12-02</td>\n",
       "      <td>1641957.44</td>\n",
       "      <td>1</td>\n",
       "      <td>38.51</td>\n",
       "      <td>2.548</td>\n",
       "      <td>211.242170</td>\n",
       "      <td>8.106</td>\n",
       "      <td>2</td>\n",
       "      <td>12</td>\n",
       "      <td>2010</td>\n",
       "      <td>10.029212</td>\n",
       "      <td>2010-12</td>\n",
       "    </tr>\n",
       "  </tbody>\n",
       "</table>\n",
       "</div>"
      ],
      "text/plain": [
       "   Store       Date  Weekly_Sales  Holiday_Flag  Temperature  Fuel_Price  \\\n",
       "0      1 2010-05-02    1643690.90             0        42.31       2.572   \n",
       "1      1 2010-12-02    1641957.44             1        38.51       2.548   \n",
       "\n",
       "          CPI  Unemployment  Day  Month  Year  Co-efficient of Mean to Std  \\\n",
       "0  211.096358         8.106    2      5  2010                          NaN   \n",
       "1  211.242170         8.106    2     12  2010                    10.029212   \n",
       "\n",
       "  Month_Year  \n",
       "0    2010-05  \n",
       "1    2010-12  "
      ]
     },
     "execution_count": 44,
     "metadata": {},
     "output_type": "execute_result"
    }
   ],
   "source": [
    "df['Month_Year'] = pd.to_datetime(df['Date']).dt.to_period('M')\n",
    "df.head(2)"
   ]
  },
  {
   "cell_type": "code",
   "execution_count": 45,
   "id": "1a73fc93",
   "metadata": {},
   "outputs": [
    {
     "data": {
      "text/html": [
       "<div>\n",
       "<style scoped>\n",
       "    .dataframe tbody tr th:only-of-type {\n",
       "        vertical-align: middle;\n",
       "    }\n",
       "\n",
       "    .dataframe tbody tr th {\n",
       "        vertical-align: top;\n",
       "    }\n",
       "\n",
       "    .dataframe thead th {\n",
       "        text-align: right;\n",
       "    }\n",
       "</style>\n",
       "<table border=\"1\" class=\"dataframe\">\n",
       "  <thead>\n",
       "    <tr style=\"text-align: right;\">\n",
       "      <th></th>\n",
       "      <th>Month_Year</th>\n",
       "      <th>Weekly_Sales</th>\n",
       "    </tr>\n",
       "  </thead>\n",
       "  <tbody>\n",
       "    <tr>\n",
       "      <th>0</th>\n",
       "      <td>2010-01</td>\n",
       "      <td>4.223988e+07</td>\n",
       "    </tr>\n",
       "    <tr>\n",
       "      <th>1</th>\n",
       "      <td>2010-02</td>\n",
       "      <td>1.915869e+08</td>\n",
       "    </tr>\n",
       "    <tr>\n",
       "      <th>2</th>\n",
       "      <td>2010-03</td>\n",
       "      <td>1.862262e+08</td>\n",
       "    </tr>\n",
       "    <tr>\n",
       "      <th>3</th>\n",
       "      <td>2010-04</td>\n",
       "      <td>1.838118e+08</td>\n",
       "    </tr>\n",
       "    <tr>\n",
       "      <th>4</th>\n",
       "      <td>2010-05</td>\n",
       "      <td>2.806119e+08</td>\n",
       "    </tr>\n",
       "    <tr>\n",
       "      <th>5</th>\n",
       "      <td>2010-06</td>\n",
       "      <td>1.424361e+08</td>\n",
       "    </tr>\n",
       "    <tr>\n",
       "      <th>6</th>\n",
       "      <td>2010-07</td>\n",
       "      <td>1.842664e+08</td>\n",
       "    </tr>\n",
       "    <tr>\n",
       "      <th>7</th>\n",
       "      <td>2010-08</td>\n",
       "      <td>1.845381e+08</td>\n",
       "    </tr>\n",
       "    <tr>\n",
       "      <th>8</th>\n",
       "      <td>2010-09</td>\n",
       "      <td>1.797041e+08</td>\n",
       "    </tr>\n",
       "    <tr>\n",
       "      <th>9</th>\n",
       "      <td>2010-10</td>\n",
       "      <td>2.311201e+08</td>\n",
       "    </tr>\n",
       "    <tr>\n",
       "      <th>10</th>\n",
       "      <td>2010-11</td>\n",
       "      <td>1.587731e+08</td>\n",
       "    </tr>\n",
       "    <tr>\n",
       "      <th>11</th>\n",
       "      <td>2010-12</td>\n",
       "      <td>3.235716e+08</td>\n",
       "    </tr>\n",
       "    <tr>\n",
       "      <th>12</th>\n",
       "      <td>2011-01</td>\n",
       "      <td>2.119657e+08</td>\n",
       "    </tr>\n",
       "    <tr>\n",
       "      <th>13</th>\n",
       "      <td>2011-02</td>\n",
       "      <td>1.876092e+08</td>\n",
       "    </tr>\n",
       "    <tr>\n",
       "      <th>14</th>\n",
       "      <td>2011-03</td>\n",
       "      <td>1.365205e+08</td>\n",
       "    </tr>\n",
       "    <tr>\n",
       "      <th>15</th>\n",
       "      <td>2011-04</td>\n",
       "      <td>2.789693e+08</td>\n",
       "    </tr>\n",
       "    <tr>\n",
       "      <th>16</th>\n",
       "      <td>2011-05</td>\n",
       "      <td>1.828017e+08</td>\n",
       "    </tr>\n",
       "    <tr>\n",
       "      <th>17</th>\n",
       "      <td>2011-06</td>\n",
       "      <td>1.401936e+08</td>\n",
       "    </tr>\n",
       "    <tr>\n",
       "      <th>18</th>\n",
       "      <td>2011-07</td>\n",
       "      <td>2.244611e+08</td>\n",
       "    </tr>\n",
       "    <tr>\n",
       "      <th>19</th>\n",
       "      <td>2011-08</td>\n",
       "      <td>1.880810e+08</td>\n",
       "    </tr>\n",
       "    <tr>\n",
       "      <th>20</th>\n",
       "      <td>2011-09</td>\n",
       "      <td>2.310323e+08</td>\n",
       "    </tr>\n",
       "    <tr>\n",
       "      <th>21</th>\n",
       "      <td>2011-10</td>\n",
       "      <td>1.837193e+08</td>\n",
       "    </tr>\n",
       "    <tr>\n",
       "      <th>22</th>\n",
       "      <td>2011-11</td>\n",
       "      <td>2.534703e+08</td>\n",
       "    </tr>\n",
       "    <tr>\n",
       "      <th>23</th>\n",
       "      <td>2011-12</td>\n",
       "      <td>2.293760e+08</td>\n",
       "    </tr>\n",
       "    <tr>\n",
       "      <th>24</th>\n",
       "      <td>2012-01</td>\n",
       "      <td>1.722207e+08</td>\n",
       "    </tr>\n",
       "    <tr>\n",
       "      <th>25</th>\n",
       "      <td>2012-02</td>\n",
       "      <td>1.428296e+08</td>\n",
       "    </tr>\n",
       "    <tr>\n",
       "      <th>26</th>\n",
       "      <td>2012-03</td>\n",
       "      <td>2.307397e+08</td>\n",
       "    </tr>\n",
       "    <tr>\n",
       "      <th>27</th>\n",
       "      <td>2012-04</td>\n",
       "      <td>1.825428e+08</td>\n",
       "    </tr>\n",
       "    <tr>\n",
       "      <th>28</th>\n",
       "      <td>2012-05</td>\n",
       "      <td>1.422830e+08</td>\n",
       "    </tr>\n",
       "    <tr>\n",
       "      <th>29</th>\n",
       "      <td>2012-06</td>\n",
       "      <td>2.923883e+08</td>\n",
       "    </tr>\n",
       "    <tr>\n",
       "      <th>30</th>\n",
       "      <td>2012-07</td>\n",
       "      <td>1.845865e+08</td>\n",
       "    </tr>\n",
       "    <tr>\n",
       "      <th>31</th>\n",
       "      <td>2012-08</td>\n",
       "      <td>1.916126e+08</td>\n",
       "    </tr>\n",
       "    <tr>\n",
       "      <th>32</th>\n",
       "      <td>2012-09</td>\n",
       "      <td>1.797959e+08</td>\n",
       "    </tr>\n",
       "    <tr>\n",
       "      <th>33</th>\n",
       "      <td>2012-10</td>\n",
       "      <td>1.880794e+08</td>\n",
       "    </tr>\n",
       "    <tr>\n",
       "      <th>34</th>\n",
       "      <td>2012-11</td>\n",
       "      <td>4.692588e+07</td>\n",
       "    </tr>\n",
       "    <tr>\n",
       "      <th>35</th>\n",
       "      <td>2012-12</td>\n",
       "      <td>4.612851e+07</td>\n",
       "    </tr>\n",
       "  </tbody>\n",
       "</table>\n",
       "</div>"
      ],
      "text/plain": [
       "   Month_Year  Weekly_Sales\n",
       "0     2010-01  4.223988e+07\n",
       "1     2010-02  1.915869e+08\n",
       "2     2010-03  1.862262e+08\n",
       "3     2010-04  1.838118e+08\n",
       "4     2010-05  2.806119e+08\n",
       "5     2010-06  1.424361e+08\n",
       "6     2010-07  1.842664e+08\n",
       "7     2010-08  1.845381e+08\n",
       "8     2010-09  1.797041e+08\n",
       "9     2010-10  2.311201e+08\n",
       "10    2010-11  1.587731e+08\n",
       "11    2010-12  3.235716e+08\n",
       "12    2011-01  2.119657e+08\n",
       "13    2011-02  1.876092e+08\n",
       "14    2011-03  1.365205e+08\n",
       "15    2011-04  2.789693e+08\n",
       "16    2011-05  1.828017e+08\n",
       "17    2011-06  1.401936e+08\n",
       "18    2011-07  2.244611e+08\n",
       "19    2011-08  1.880810e+08\n",
       "20    2011-09  2.310323e+08\n",
       "21    2011-10  1.837193e+08\n",
       "22    2011-11  2.534703e+08\n",
       "23    2011-12  2.293760e+08\n",
       "24    2012-01  1.722207e+08\n",
       "25    2012-02  1.428296e+08\n",
       "26    2012-03  2.307397e+08\n",
       "27    2012-04  1.825428e+08\n",
       "28    2012-05  1.422830e+08\n",
       "29    2012-06  2.923883e+08\n",
       "30    2012-07  1.845865e+08\n",
       "31    2012-08  1.916126e+08\n",
       "32    2012-09  1.797959e+08\n",
       "33    2012-10  1.880794e+08\n",
       "34    2012-11  4.692588e+07\n",
       "35    2012-12  4.612851e+07"
      ]
     },
     "execution_count": 45,
     "metadata": {},
     "output_type": "execute_result"
    }
   ],
   "source": [
    "monthly_sales = df.groupby('Month_Year')['Weekly_Sales'].sum().reset_index()\n",
    "monthly_sales"
   ]
  },
  {
   "cell_type": "code",
   "execution_count": 46,
   "id": "43b22086",
   "metadata": {},
   "outputs": [
    {
     "data": {
      "image/png": "[encoded data removed]",
      "text/plain": [
       "<Figure size 1080x360 with 1 Axes>"
      ]
     },
     "metadata": {
      "needs_background": "light"
     },
     "output_type": "display_data"
    }
   ],
   "source": [
    "plt.figure(figsize=(15,5))\n",
    "plt.plot(monthly_sales['Month_Year'].astype(str),monthly_sales['Weekly_Sales'])\n",
    "plt.title('Monthly Sales')\n",
    "plt.xlabel('Month')\n",
    "plt.ylabel('Total Sales in units')\n",
    "plt.xticks(rotation=90)\n",
    "plt.show()"
   ]
  },
  {
   "cell_type": "code",
   "execution_count": 47,
   "id": "fe05d042",
   "metadata": {},
   "outputs": [
    {
     "data": {
      "text/plain": [
       "Index(['Store', 'Date', 'Weekly_Sales', 'Holiday_Flag', 'Temperature',\n",
       "       'Fuel_Price', 'CPI', 'Unemployment', 'Day', 'Month', 'Year',\n",
       "       'Co-efficient of Mean to Std', 'Month_Year'],\n",
       "      dtype='object')"
      ]
     },
     "execution_count": 47,
     "metadata": {},
     "output_type": "execute_result"
    }
   ],
   "source": [
    "df.columns"
   ]
  },
  {
   "cell_type": "markdown",
   "id": "3ebba0fc",
   "metadata": {},
   "source": [
    "Plot the relationship between the fuel_price and year"
   ]
  },
  {
   "cell_type": "code",
   "execution_count": 68,
   "id": "34a630a1",
   "metadata": {},
   "outputs": [
    {
     "data": {
      "text/plain": [
       "<AxesSubplot:xlabel='Year', ylabel='Fuel_Price'>"
      ]
     },
     "execution_count": 68,
     "metadata": {},
     "output_type": "execute_result"
    },
    {
     "data": {
      "image/png": "[encoded data removed]",
      "text/plain": [
       "<Figure size 432x288 with 1 Axes>"
      ]
     },
     "metadata": {
      "needs_background": "light"
     },
     "output_type": "display_data"
    }
   ],
   "source": [
    "sns.barplot(x='Year',y='Fuel_Price',data=df)"
   ]
  },
  {
   "cell_type": "markdown",
   "id": "964f6368",
   "metadata": {},
   "source": [
    "From the above graph it is inferred that the price of the fuel increases as the year increases."
   ]
  },
  {
   "cell_type": "markdown",
   "id": "eea83d00",
   "metadata": {},
   "source": [
    "Plot the relationship between the weekly sales and the store"
   ]
  },
  {
   "cell_type": "code",
   "execution_count": 70,
   "id": "1b53cf87",
   "metadata": {},
   "outputs": [
    {
     "data": {
      "text/plain": [
       "<AxesSubplot:xlabel='Store', ylabel='Weekly_Sales'>"
      ]
     },
     "execution_count": 70,
     "metadata": {},
     "output_type": "execute_result"
    },
    {
     "data": {
      "image/png": "[encoded data removed]",
      "text/plain": [
       "<Figure size 1440x720 with 1 Axes>"
      ]
     },
     "metadata": {
      "needs_background": "light"
     },
     "output_type": "display_data"
    }
   ],
   "source": [
    "plt.figure(figsize=(20,10))\n",
    "sns.barplot(x='Store',y='Weekly_Sales',data=df)"
   ]
  },
  {
   "cell_type": "markdown",
   "id": "11d7cac8",
   "metadata": {},
   "source": [
    "From the above figure Store 20 has the highest weekly sales"
   ]
  },
  {
   "cell_type": "markdown",
   "id": "7ec40a4e",
   "metadata": {},
   "source": [
    "Plot the relationship between Store and the unemployment"
   ]
  },
  {
   "cell_type": "code",
   "execution_count": 72,
   "id": "2fd5d2d1",
   "metadata": {},
   "outputs": [
    {
     "data": {
      "text/plain": [
       "<AxesSubplot:xlabel='Store', ylabel='Unemployment'>"
      ]
     },
     "execution_count": 72,
     "metadata": {},
     "output_type": "execute_result"
    },
    {
     "data": {
      "image/png": "[encoded data removed]",
      "text/plain": [
       "<Figure size 1440x720 with 1 Axes>"
      ]
     },
     "metadata": {
      "needs_background": "light"
     },
     "output_type": "display_data"
    }
   ],
   "source": [
    "plt.figure(figsize=(20,10))\n",
    "sns.lineplot(x='Store',y='Unemployment',data=df)"
   ]
  },
  {
   "cell_type": "code",
   "execution_count": 73,
   "id": "6d79d389",
   "metadata": {
    "scrolled": false
   },
   "outputs": [
    {
     "data": {
      "text/plain": [
       "<AxesSubplot:xlabel='Store', ylabel='Unemployment'>"
      ]
     },
     "execution_count": 73,
     "metadata": {},
     "output_type": "execute_result"
    },
    {
     "data": {
      "image/png": "[encoded data removed]",
      "text/plain": [
       "<Figure size 1440x720 with 1 Axes>"
      ]
     },
     "metadata": {
      "needs_background": "light"
     },
     "output_type": "display_data"
    }
   ],
   "source": [
    "plt.figure(figsize=(20,10))\n",
    "sns.barplot(x='Store',y='Unemployment',data=df)"
   ]
  },
  {
   "cell_type": "markdown",
   "id": "72efdf2d",
   "metadata": {},
   "source": [
    "From the above graph it is inferred that the store 12 has the highest unemployment rate."
   ]
  },
  {
   "cell_type": "code",
   "execution_count": 48,
   "id": "8f43d60a",
   "metadata": {},
   "outputs": [],
   "source": [
    "#model to predict the demand \n",
    "\n",
    "from sklearn.model_selection import train_test_split\n",
    "x_train, x_test, y_train, y_test = train_test_split(df.drop('Weekly_Sales',axis=1),df['Weekly_Sales'],test_size = 0.2, random_state = 42)"
   ]
  },
  {
   "cell_type": "code",
   "execution_count": 49,
   "id": "b125c902",
   "metadata": {},
   "outputs": [],
   "source": [
    "from sklearn.compose import ColumnTransformer\n",
    "from sklearn.pipeline import Pipeline\n",
    "from sklearn.impute import SimpleImputer \n",
    "from sklearn.preprocessing import StandardScaler, OneHotEncoder"
   ]
  },
  {
   "cell_type": "code",
   "execution_count": 50,
   "id": "cd656bec",
   "metadata": {},
   "outputs": [],
   "source": [
    "#data preprocessing \n",
    "\n",
    "numeric_transformer = Pipeline(steps = [\n",
    "    ('imputer',SimpleImputer(strategy='median')),\n",
    "    ('scaler',StandardScaler())\n",
    "])"
   ]
  },
  {
   "cell_type": "code",
   "execution_count": 55,
   "id": "80e3cd24",
   "metadata": {},
   "outputs": [],
   "source": [
    "categorical_transformer = Pipeline(steps = [\n",
    "    ('imputer',SimpleImputer(strategy='most_frequent')),\n",
    "    ('onehot',OneHotEncoder(handle_unknown='ignore'))\n",
    "])"
   ]
  },
  {
   "cell_type": "code",
   "execution_count": 56,
   "id": "b4ffb601",
   "metadata": {},
   "outputs": [
    {
     "data": {
      "text/plain": [
       "Store                                   int64\n",
       "Date                           datetime64[ns]\n",
       "Weekly_Sales                          float64\n",
       "Holiday_Flag                            int64\n",
       "Temperature                           float64\n",
       "Fuel_Price                            float64\n",
       "CPI                                   float64\n",
       "Unemployment                          float64\n",
       "Day                                     int64\n",
       "Month                                   int64\n",
       "Year                                    int64\n",
       "Co-efficient of Mean to Std           float64\n",
       "Month_Year                          period[M]\n",
       "dtype: object"
      ]
     },
     "execution_count": 56,
     "metadata": {},
     "output_type": "execute_result"
    }
   ],
   "source": [
    "df.dtypes"
   ]
  },
  {
   "cell_type": "code",
   "execution_count": 57,
   "id": "8fdcdf73",
   "metadata": {},
   "outputs": [],
   "source": [
    "numeric_cols = ['Temperature','Fuel_Price','CPI','Unemployment']\n",
    "categorical_cols = ['Store','Holiday_Flag','Day','Month','Year','Month_Year']"
   ]
  },
  {
   "cell_type": "code",
   "execution_count": 58,
   "id": "fa818bbf",
   "metadata": {},
   "outputs": [],
   "source": [
    "preprocessor = ColumnTransformer(transformers = [\n",
    "   ('num',numeric_transformer,numeric_cols),('cat',categorical_transformer,categorical_cols)\n",
    "])"
   ]
  },
  {
   "cell_type": "code",
   "execution_count": 60,
   "id": "ddc544ab",
   "metadata": {},
   "outputs": [],
   "source": [
    "x_train = preprocessor.fit_transform(x_train)\n",
    "x_test = preprocessor.transform(x_test)"
   ]
  },
  {
   "cell_type": "code",
   "execution_count": 78,
   "id": "7a8e1097",
   "metadata": {},
   "outputs": [],
   "source": [
    "#random forest regressor model\n",
    "from sklearn.ensemble import RandomForestRegressor"
   ]
  },
  {
   "cell_type": "code",
   "execution_count": 62,
   "id": "cc945870",
   "metadata": {},
   "outputs": [],
   "source": [
    "rf = RandomForestRegressor(n_estimators=100,random_state=42)"
   ]
  },
  {
   "cell_type": "code",
   "execution_count": 63,
   "id": "4850e258",
   "metadata": {},
   "outputs": [
    {
     "data": {
      "text/plain": [
       "RandomForestRegressor(random_state=42)"
      ]
     },
     "execution_count": 63,
     "metadata": {},
     "output_type": "execute_result"
    }
   ],
   "source": [
    "#fitting the model\n",
    "rf.fit(x_train,y_train)"
   ]
  },
  {
   "cell_type": "code",
   "execution_count": 64,
   "id": "c1b457c2",
   "metadata": {},
   "outputs": [],
   "source": [
    "#predictions of the dataset\n",
    "y_predict = rf.predict(x_test)"
   ]
  },
  {
   "cell_type": "code",
   "execution_count": 80,
   "id": "bb2bf196",
   "metadata": {},
   "outputs": [
    {
     "name": "stdout",
     "output_type": "stream",
     "text": [
      "R2 Score :  0.9292743511037951\n",
      "Mean Squared Error :  22784590628.59517\n",
      "Root Mean squared  150945.65455353516\n"
     ]
    }
   ],
   "source": [
    "#model evaluation\n",
    "from sklearn.metrics import r2_score,mean_squared_error\n",
    "r2 = r2_score(y_test,y_predict)\n",
    "mse = mean_squared_error(y_test,y_predict)\n",
    "rmse = sqrt(mean_squared_error(y_test,y_predict))\n",
    "print(\"R2 Score : \",r2)\n",
    "print(\"Mean Squared Error : \",mse)\n",
    "print(\"Root Mean squared \",rmse)"
   ]
  },
  {
   "cell_type": "code",
   "execution_count": 81,
   "id": "740ff616",
   "metadata": {},
   "outputs": [],
   "source": [
    "#decision tree regressor model \n",
    "from sklearn.tree import DecisionTreeRegressor"
   ]
  },
  {
   "cell_type": "code",
   "execution_count": 82,
   "id": "c9d8e007",
   "metadata": {},
   "outputs": [],
   "source": [
    "dt = DecisionTreeRegressor(max_depth=3,random_state=0)"
   ]
  },
  {
   "cell_type": "code",
   "execution_count": 84,
   "id": "94f08c22",
   "metadata": {},
   "outputs": [
    {
     "data": {
      "text/plain": [
       "DecisionTreeRegressor(max_depth=3, random_state=0)"
      ]
     },
     "execution_count": 84,
     "metadata": {},
     "output_type": "execute_result"
    }
   ],
   "source": [
    "dt.fit(x_train,y_train)"
   ]
  },
  {
   "cell_type": "code",
   "execution_count": 85,
   "id": "3a6e4c8c",
   "metadata": {},
   "outputs": [],
   "source": [
    "y_pred = dt.predict(x_test)"
   ]
  },
  {
   "cell_type": "code",
   "execution_count": 86,
   "id": "0f432f02",
   "metadata": {},
   "outputs": [
    {
     "name": "stdout",
     "output_type": "stream",
     "text": [
      "R2 Score :  0.20231929770389356\n",
      "Mean Squared Error :  256976479364.93274\n",
      "Root Mean squared  506928.4755909188\n"
     ]
    }
   ],
   "source": [
    "r2 = r2_score(y_test,y_pred)\n",
    "mse = mean_squared_error(y_test,y_pred)\n",
    "rmse = sqrt(mean_squared_error(y_test,y_pred))\n",
    "print(\"R2 Score : \",r2)\n",
    "print(\"Mean Squared Error : \",mse)\n",
    "print(\"Root Mean squared \",rmse)"
   ]
  },
  {
   "cell_type": "code",
   "execution_count": 89,
   "id": "dd136d22",
   "metadata": {},
   "outputs": [
    {
     "name": "stdout",
     "output_type": "stream",
     "text": [
      "Collecting xgboost\n",
      "  Downloading xgboost-1.7.5-py3-none-win_amd64.whl (70.9 MB)\n",
      "Requirement already satisfied: numpy in c:\\users\\shanthini\\anaconda3\\lib\\site-packages (from xgboost) (1.22.3)\n",
      "Requirement already satisfied: scipy in c:\\users\\shanthini\\anaconda3\\lib\\site-packages (from xgboost) (1.7.3)\n",
      "Installing collected packages: xgboost\n",
      "Successfully installed xgboost-1.7.5\n",
      "Note: you may need to restart the kernel to use updated packages.\n"
     ]
    }
   ],
   "source": [
    "pip install xgboost"
   ]
  },
  {
   "cell_type": "code",
   "execution_count": 90,
   "id": "1eb7a41e",
   "metadata": {},
   "outputs": [],
   "source": [
    "#xgboost regressor model \n",
    "from xgboost import XGBRegressor"
   ]
  },
  {
   "cell_type": "code",
   "execution_count": 91,
   "id": "64847d31",
   "metadata": {},
   "outputs": [],
   "source": [
    "xg = XGBRegressor()"
   ]
  },
  {
   "cell_type": "code",
   "execution_count": 92,
   "id": "64878bcf",
   "metadata": {},
   "outputs": [
    {
     "data": {
      "text/plain": [
       "XGBRegressor(base_score=None, booster=None, callbacks=None,\n",
       "             colsample_bylevel=None, colsample_bynode=None,\n",
       "             colsample_bytree=None, early_stopping_rounds=None,\n",
       "             enable_categorical=False, eval_metric=None, feature_types=None,\n",
       "             gamma=None, gpu_id=None, grow_policy=None, importance_type=None,\n",
       "             interaction_constraints=None, learning_rate=None, max_bin=None,\n",
       "             max_cat_threshold=None, max_cat_to_onehot=None,\n",
       "             max_delta_step=None, max_depth=None, max_leaves=None,\n",
       "             min_child_weight=None, missing=nan, monotone_constraints=None,\n",
       "             n_estimators=100, n_jobs=None, num_parallel_tree=None,\n",
       "             predictor=None, random_state=None, ...)"
      ]
     },
     "execution_count": 92,
     "metadata": {},
     "output_type": "execute_result"
    }
   ],
   "source": [
    "xg.fit(x_train,y_train)"
   ]
  },
  {
   "cell_type": "code",
   "execution_count": 93,
   "id": "426485bb",
   "metadata": {},
   "outputs": [],
   "source": [
    "y_pred_xg = xg.predict(x_test)"
   ]
  },
  {
   "cell_type": "code",
   "execution_count": 94,
   "id": "ede42e92",
   "metadata": {},
   "outputs": [
    {
     "name": "stdout",
     "output_type": "stream",
     "text": [
      "R2 Score :  0.9630479590434368\n",
      "Mean Squared Error :  11904268666.689518\n",
      "Root Mean squared  109106.68479378117\n"
     ]
    }
   ],
   "source": [
    "r2 = r2_score(y_test,y_pred_xg)\n",
    "mse = mean_squared_error(y_test,y_pred_xg)\n",
    "rmse = sqrt(mean_squared_error(y_test,y_pred_xg))\n",
    "print(\"R2 Score : \",r2)\n",
    "print(\"Mean Squared Error : \",mse)\n",
    "print(\"Root Mean squared \",rmse)"
   ]
  },
  {
   "cell_type": "code",
   "execution_count": 95,
   "id": "e19b0b0f",
   "metadata": {},
   "outputs": [],
   "source": [
    "#ridge regression\n",
    "from sklearn.linear_model import Ridge"
   ]
  },
  {
   "cell_type": "code",
   "execution_count": 96,
   "id": "0f774a76",
   "metadata": {},
   "outputs": [],
   "source": [
    "rd = Ridge(alpha=0.5)"
   ]
  },
  {
   "cell_type": "code",
   "execution_count": 97,
   "id": "ad23a2d7",
   "metadata": {},
   "outputs": [
    {
     "data": {
      "text/plain": [
       "Ridge(alpha=0.5)"
      ]
     },
     "execution_count": 97,
     "metadata": {},
     "output_type": "execute_result"
    }
   ],
   "source": [
    "rd.fit(x_train,y_train)"
   ]
  },
  {
   "cell_type": "code",
   "execution_count": 98,
   "id": "50081c6c",
   "metadata": {},
   "outputs": [],
   "source": [
    "y_pred_rd = rd.predict(x_test)"
   ]
  },
  {
   "cell_type": "code",
   "execution_count": 99,
   "id": "a3df5d3c",
   "metadata": {},
   "outputs": [
    {
     "name": "stdout",
     "output_type": "stream",
     "text": [
      "R2 Score :  0.9407353504443989\n",
      "Mean Squared Error :  19092377375.755432\n",
      "Root Mean squared  138175.16917216143\n"
     ]
    }
   ],
   "source": [
    "r2 = r2_score(y_test,y_pred_rd)\n",
    "mse = mean_squared_error(y_test,y_pred_rd)\n",
    "rmse = sqrt(mean_squared_error(y_test,y_pred_rd))\n",
    "print(\"R2 Score : \",r2)\n",
    "print(\"Mean Squared Error : \",mse)\n",
    "print(\"Root Mean squared \",rmse)"
   ]
  },
  {
   "cell_type": "code",
   "execution_count": 100,
   "id": "6821e202",
   "metadata": {},
   "outputs": [
    {
     "data": {
      "text/plain": [
       "2436    1138800.32\n",
       "3361    1304850.67\n",
       "233     1769296.25\n",
       "3667    1077640.13\n",
       "5011     428851.99\n",
       "           ...    \n",
       "2600    1492060.89\n",
       "6308     801098.43\n",
       "6292     890689.51\n",
       "151     2066187.72\n",
       "2344     816138.33\n",
       "Name: Weekly_Sales, Length: 1287, dtype: float64"
      ]
     },
     "execution_count": 100,
     "metadata": {},
     "output_type": "execute_result"
    }
   ],
   "source": [
    "y_test"
   ]
  },
  {
   "cell_type": "code",
   "execution_count": null,
   "id": "30803279",
   "metadata": {},
   "outputs": [],
   "source": []
  }
 ],
 "metadata": {
  "kernelspec": {
   "display_name": "Python 3 (ipykernel)",
   "language": "python",
   "name": "python3"
  },
  "language_info": {
   "codemirror_mode": {
    "name": "ipython",
    "version": 3
   },
   "file_extension": ".py",
   "mimetype": "text/x-python",
   "name": "python",
   "nbconvert_exporter": "python",
   "pygments_lexer": "ipython3",
   "version": "3.9.12"
  }
 },
 "nbformat": 4,
 "nbformat_minor": 5
}
